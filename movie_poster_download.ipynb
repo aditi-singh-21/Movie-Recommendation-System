{
 "cells": [
  {
   "cell_type": "code",
   "execution_count": 24,
   "metadata": {},
   "outputs": [],
   "source": [
    "urls = [ 'https://www.imdb.com/list/ls047058982/?view=compact&genres=family%2Cromance&sort=popularity%2Casc']"
   ]
  },
  {
   "cell_type": "code",
   "execution_count": 25,
   "metadata": {},
   "outputs": [],
   "source": [
    "import re\n",
    "from bs4 import BeautifulSoup\n",
    "from urllib.request import urlopen\n",
    "import pandas as pd\n",
    "import numpy as np\n",
    "import requests\n",
    "import os"
   ]
  },
  {
   "cell_type": "code",
   "execution_count": 26,
   "metadata": {},
   "outputs": [],
   "source": [
    "df = pd.read_csv(\"final_dta.csv\")"
   ]
  },
  {
   "cell_type": "code",
   "execution_count": 115,
   "metadata": {},
   "outputs": [],
   "source": [
    "def download_image(url, filename):\n",
    "    response = requests.get(url)\n",
    "    if response.status_code == 200:\n",
    "        with open(filename, 'wb') as f:\n",
    "            f.write(response.content)\n",
    "        print(f\"Downloaded {filename}\")\n",
    "    else:\n",
    "        print(f\"Failed to download {filename}\")\n",
    "\n",
    "def scraping_image(url):\n",
    "    headers = {\n",
    "    'User-Agent': 'Mozilla/5.0 (Windows NT 10.0; Win64; x64) AppleWebKit/537.36 (KHTML, like Gecko) Chrome/58.0.3029.110 Safari/537.3',\n",
    "    'Accept-Language': 'en-US,en;q=0.9',\n",
    "    'Accept-Encoding': 'gzip, deflate, br',\n",
    "    'Connection': 'keep-alive',\n",
    "    'Upgrade-Insecure-Requests': '1',\n",
    "    'Referer': 'https://www.google.com/',\n",
    "}\n",
    "\n",
    "    response = requests.get(url, headers=headers)\n",
    "    response.raise_for_status()\n",
    "\n",
    "    soup = BeautifulSoup(response.text, 'html.parser')\n",
    "    \n",
    "    movies = soup.find_all('li',{'class' : \"ipc-metadata-list__item ipc-metadata-list__item--inline ipc-metadata-list-item--link\"})\n",
    "    \n",
    "    for mov in movies:\n",
    "        if(mov.find('div',{'class' :'ipc-poster ipc-poster--base ipc-poster--dynamic-width ipc-sub-grid-item ipc-sub-grid-item--span-2'})):\n",
    "            poster = mov.find('div',{'class' :'ipc-poster ipc-poster--base ipc-poster--dynamic-width ipc-sub-grid-item ipc-sub-grid-item--span-2'})\n",
    "            if(poster.find('div' ,{'class' :'ipc-media ipc-media--poster-27x40 ipc-image-media-ratio--poster-27x40 ipc-media--base ipc-media--poster-m ipc-poster__poster-image ipc-media__img'})):\n",
    "                poster = poster.find('div' ,{'class' :'ipc-media ipc-media--poster-27x40 ipc-image-media-ratio--poster-27x40 ipc-media--base ipc-media--poster-m ipc-poster__poster-image ipc-media__img'})\n",
    "                if(poster.find('img')['src']):\n",
    "                    poster_url = poster.find('img')['src']\n",
    "                    if(mov.find('h3', {'class': 'ipc-title__text'}).text):\n",
    "                        movie_title = mov.find('h3', {'class': 'ipc-title__text'}).text\n",
    "                        movie_title = movie_title.split('. ', 1)[-1].strip()\n",
    "                        if(movie_title[len(movie_title) -1] == '?') or(movie_title[len(movie_title) -1] == '!'):\n",
    "                            movie_title = movie_title[:len(movie_title)-1]\n",
    "                            movie_title = str(movie_title)\n",
    "                        print(movie_title)\n",
    "                        print(poster_url)\n",
    "                        file_name = os.path.join(r'C:\\Users\\aditi\\OneDrive\\Desktop\\PROJECTS\\Movie-Recommendation-System\\posters', f\"{movie_title}.jpg\".replace(\"/\", \"-\"))\n",
    "\n",
    "                    if (movie_title in df['Movie Name'].values):\n",
    "                    \n",
    "                        download_image(poster_url, file_name)"
   ]
  },
  {
   "cell_type": "code",
   "execution_count": null,
   "metadata": {},
   "outputs": [],
   "source": [
    "sample_url = \"https://www.imdb.com/list/ls004221468/\"\n",
    "scraping_image(sample_url)"
   ]
  },
  {
   "cell_type": "code",
   "execution_count": null,
   "metadata": {},
   "outputs": [],
   "source": [
    "scraping_image( 'https://www.imdb.com/list/ls047058982/')"
   ]
  },
  {
   "cell_type": "code",
   "execution_count": null,
   "metadata": {},
   "outputs": [],
   "source": [
    "scraping_image('https://www.imdb.com/list/ls047058982/?view=compact&genres=biography')\n"
   ]
  },
  {
   "cell_type": "code",
   "execution_count": null,
   "metadata": {},
   "outputs": [],
   "source": [
    "scraping_image('https://www.imdb.com/list/ls047058982/?view=compact&genres=family&sort=alpha%2Cdesc')\n"
   ]
  },
  {
   "cell_type": "code",
   "execution_count": null,
   "metadata": {},
   "outputs": [],
   "source": [
    "scraping_image('https://www.imdb.com/list/ls529741921/')"
   ]
  },
  {
   "cell_type": "code",
   "execution_count": 116,
   "metadata": {},
   "outputs": [],
   "source": [
    "#redo\n",
    "scraping_image('https://www.imdb.com/india/top-rated-indian-movies')"
   ]
  },
  {
   "cell_type": "code",
   "execution_count": null,
   "metadata": {},
   "outputs": [],
   "source": [
    "scraping_image('https://www.imdb.com/list/ls051594496/?sort=list_order%2Cdesc')\n"
   ]
  },
  {
   "cell_type": "code",
   "execution_count": null,
   "metadata": {},
   "outputs": [],
   "source": [
    "scraping_image('https://www.imdb.com/list/ls051594496/')"
   ]
  },
  {
   "cell_type": "code",
   "execution_count": null,
   "metadata": {},
   "outputs": [],
   "source": [
    "scraping_image('https://www.imdb.com/list/ls500849058/')"
   ]
  },
  {
   "cell_type": "code",
   "execution_count": null,
   "metadata": {},
   "outputs": [],
   "source": [
    "scraping_image('https://www.imdb.com/list/ls523872385/')\n"
   ]
  },
  {
   "cell_type": "code",
   "execution_count": null,
   "metadata": {},
   "outputs": [],
   "source": [
    "scraping_image('https://www.imdb.com/list/ls565461384/')"
   ]
  },
  {
   "cell_type": "code",
   "execution_count": null,
   "metadata": {},
   "outputs": [],
   "source": [
    "scraping_image('https://www.imdb.com/list/ls047058982/?genres=comedy')"
   ]
  },
  {
   "cell_type": "code",
   "execution_count": null,
   "metadata": {},
   "outputs": [],
   "source": [
    "scraping_image('https://www.imdb.com/list/ls047058982/?genres=fantasy')"
   ]
  },
  {
   "cell_type": "code",
   "execution_count": null,
   "metadata": {},
   "outputs": [],
   "source": [
    "scraping_image('https://www.imdb.com/list/ls047058982/?genres=sport')"
   ]
  },
  {
   "cell_type": "code",
   "execution_count": null,
   "metadata": {},
   "outputs": [],
   "source": [
    "scraping_image('https://www.imdb.com/list/ls047058982/?genres=history%2Csport')\n"
   ]
  },
  {
   "cell_type": "code",
   "execution_count": null,
   "metadata": {},
   "outputs": [],
   "source": [
    "scraping_image('https://www.imdb.com/list/ls047058982/?genres=history')\n"
   ]
  },
  {
   "cell_type": "code",
   "execution_count": null,
   "metadata": {},
   "outputs": [],
   "source": [
    "scraping_image('https://www.imdb.com/list/ls047058982/?genres=musical')"
   ]
  },
  {
   "cell_type": "code",
   "execution_count": null,
   "metadata": {},
   "outputs": [],
   "source": [
    "scraping_image('https://www.imdb.com/list/ls047058982/?view=compact&genres=family%2Cromance&sort=popularity%2Casc')"
   ]
  },
  {
   "cell_type": "code",
   "execution_count": null,
   "metadata": {},
   "outputs": [],
   "source": []
  }
 ],
 "metadata": {
  "kernelspec": {
   "display_name": "Python 3",
   "language": "python",
   "name": "python3"
  },
  "language_info": {
   "codemirror_mode": {
    "name": "ipython",
    "version": 3
   },
   "file_extension": ".py",
   "mimetype": "text/x-python",
   "name": "python",
   "nbconvert_exporter": "python",
   "pygments_lexer": "ipython3",
   "version": "3.10.11"
  }
 },
 "nbformat": 4,
 "nbformat_minor": 2
}
