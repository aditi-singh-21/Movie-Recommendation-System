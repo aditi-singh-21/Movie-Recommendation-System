{
 "cells": [
  {
   "cell_type": "code",
   "execution_count": 1,
   "metadata": {},
   "outputs": [],
   "source": [
    "import re\n",
    "from bs4 import BeautifulSoup\n",
    "from urllib.request import urlopen\n",
    "import pandas as pd\n",
    "import numpy as np\n",
    "import requests"
   ]
  },
  {
   "cell_type": "code",
   "execution_count": 2,
   "metadata": {},
   "outputs": [],
   "source": [
    "movies_name=[]\n",
    "movies_url=[]"
   ]
  },
  {
   "cell_type": "code",
   "execution_count": 3,
   "metadata": {},
   "outputs": [
    {
     "name": "stdout",
     "output_type": "stream",
     "text": [
      "The Best Bollywood Movies of all time\n"
     ]
    }
   ],
   "source": [
    "url = \"https://www.imdb.com/list/ls004221468/\"\n",
    "\n",
    "headers = {\n",
    "    'User-Agent': 'Mozilla/5.0 (Windows NT 10.0; Win64; x64) AppleWebKit/537.36 (KHTML, like Gecko) Chrome/58.0.3029.110 Safari/537.3',\n",
    "    'Accept-Language': 'en-US,en;q=0.9',\n",
    "    'Accept-Encoding': 'gzip, deflate, br',\n",
    "    'Connection': 'keep-alive',\n",
    "    'Upgrade-Insecure-Requests': '1',\n",
    "    'Referer': 'https://www.google.com/',\n",
    "}\n",
    "\n",
    "response = requests.get(url, headers=headers)\n",
    "response.raise_for_status()\n",
    "\n",
    "soup = BeautifulSoup(response.text, 'html.parser')\n",
    "print(soup.title.text)\n"
   ]
  },
  {
   "cell_type": "code",
   "execution_count": 5,
   "metadata": {},
   "outputs": [],
   "source": [
    "movies = soup.find_all('li',{'class' : \"ipc-metadata-list-summary-item\"})\n",
    "\n",
    "for mov in movies:\n",
    "    parent_span = mov.find('div', class_='ipc-title ipc-title--base ipc-title--title ipc-title-link-no-icon ipc-title--on-textPrimary sc-b189961a-9 iALATN dli-title')\n",
    "    if parent_span:\n",
    "        title = parent_span.find('h3', class_='ipc-title__text')\n",
    "        title_text = title.get_text(strip=True).split('. ', 1)[-1]\n",
    "        movies_name.append(title_text)\n",
    "        \n",
    "    for a_tag in soup.find_all('a', href=True):\n",
    "        href = a_tag['href']\n",
    "        if '/title/' in href:\n",
    "            url = \"https://www.imdb.com\" + href\n",
    "            movies_url.append(url)"
   ]
  },
  {
   "cell_type": "code",
   "execution_count": 6,
   "metadata": {},
   "outputs": [
    {
     "data": {
      "text/plain": [
       "25"
      ]
     },
     "execution_count": 6,
     "metadata": {},
     "output_type": "execute_result"
    }
   ],
   "source": [
    "len(movies_name)"
   ]
  },
  {
   "cell_type": "code",
   "execution_count": 7,
   "metadata": {},
   "outputs": [
    {
     "data": {
      "text/plain": [
       "['Udaan',\n",
       " 'Gangs of Wasseypur',\n",
       " 'Like Stars on Earth',\n",
       " 'Dev.D',\n",
       " 'Swades',\n",
       " '3 Idiots',\n",
       " 'OMG: Oh My God!',\n",
       " 'Rang De Basanti',\n",
       " 'Omkara',\n",
       " 'Pink',\n",
       " 'Talvar',\n",
       " 'Chak De! India',\n",
       " 'Black',\n",
       " 'Andaz Apna Apna',\n",
       " 'Laal Rang',\n",
       " 'Drishyam',\n",
       " 'Dangal',\n",
       " 'Black Friday',\n",
       " 'Thirst',\n",
       " 'Jaane Bhi Do Yaaro',\n",
       " 'A Wednesday',\n",
       " 'Dil Chahta Hai',\n",
       " 'PK',\n",
       " 'Mother India',\n",
       " 'Anand']"
      ]
     },
     "execution_count": 7,
     "metadata": {},
     "output_type": "execute_result"
    }
   ],
   "source": [
    "movies_name"
   ]
  },
  {
   "cell_type": "code",
   "execution_count": 13,
   "metadata": {},
   "outputs": [
    {
     "data": {
      "text/plain": [
       "24"
      ]
     },
     "execution_count": 13,
     "metadata": {},
     "output_type": "execute_result"
    }
   ],
   "source": [
    "movies_url =movies_url[1:26]\n",
    "len(movies_url)"
   ]
  },
  {
   "cell_type": "code",
   "execution_count": 14,
   "metadata": {},
   "outputs": [
    {
     "data": {
      "text/plain": [
       "['https://www.imdb.com/title/tt1639426/?ref_=ls_i_1',\n",
       " 'https://www.imdb.com/title/tt1639426/?ref_=ls_t_1',\n",
       " 'https://www.imdb.com/title/tt1954470/?ref_=ls_i_2',\n",
       " 'https://www.imdb.com/title/tt1954470/?ref_=ls_t_2',\n",
       " 'https://www.imdb.com/title/tt0986264/?ref_=ls_i_3',\n",
       " 'https://www.imdb.com/title/tt0986264/?ref_=ls_t_3',\n",
       " 'https://www.imdb.com/title/tt1327035/?ref_=ls_i_4',\n",
       " 'https://www.imdb.com/title/tt1327035/?ref_=ls_t_4',\n",
       " 'https://www.imdb.com/title/tt0367110/?ref_=ls_i_5',\n",
       " 'https://www.imdb.com/title/tt0367110/?ref_=ls_t_5',\n",
       " 'https://www.imdb.com/title/tt1187043/?ref_=ls_i_6',\n",
       " 'https://www.imdb.com/title/tt1187043/?ref_=ls_t_6',\n",
       " 'https://www.imdb.com/title/tt2283748/?ref_=ls_i_7',\n",
       " 'https://www.imdb.com/title/tt2283748/?ref_=ls_t_7',\n",
       " 'https://www.imdb.com/title/tt0405508/?ref_=ls_i_8',\n",
       " 'https://www.imdb.com/title/tt0405508/?ref_=ls_t_8',\n",
       " 'https://www.imdb.com/title/tt0488414/?ref_=ls_i_9',\n",
       " 'https://www.imdb.com/title/tt0488414/?ref_=ls_t_9',\n",
       " 'https://www.imdb.com/title/tt5571734/?ref_=ls_i_10',\n",
       " 'https://www.imdb.com/title/tt5571734/?ref_=ls_t_10',\n",
       " 'https://www.imdb.com/title/tt4934950/?ref_=ls_i_11',\n",
       " 'https://www.imdb.com/title/tt4934950/?ref_=ls_t_11',\n",
       " 'https://www.imdb.com/title/tt0871510/?ref_=ls_i_12',\n",
       " 'https://www.imdb.com/title/tt0871510/?ref_=ls_t_12']"
      ]
     },
     "execution_count": 14,
     "metadata": {},
     "output_type": "execute_result"
    }
   ],
   "source": [
    "movies_url"
   ]
  },
  {
   "cell_type": "code",
   "execution_count": null,
   "metadata": {},
   "outputs": [],
   "source": []
  }
 ],
 "metadata": {
  "kernelspec": {
   "display_name": "Python 3",
   "language": "python",
   "name": "python3"
  },
  "language_info": {
   "codemirror_mode": {
    "name": "ipython",
    "version": 3
   },
   "file_extension": ".py",
   "mimetype": "text/x-python",
   "name": "python",
   "nbconvert_exporter": "python",
   "pygments_lexer": "ipython3",
   "version": "3.10.11"
  }
 },
 "nbformat": 4,
 "nbformat_minor": 2
}
