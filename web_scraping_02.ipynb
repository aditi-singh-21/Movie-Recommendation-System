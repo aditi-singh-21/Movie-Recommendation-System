{
 "cells": [
  {
   "cell_type": "code",
   "execution_count": 98,
   "metadata": {},
   "outputs": [],
   "source": [
    "import re\n",
    "from bs4 import BeautifulSoup\n",
    "from urllib.request import urlopen\n",
    "import pandas as pd\n",
    "import numpy as np\n",
    "import requests"
   ]
  },
  {
   "cell_type": "code",
   "execution_count": 99,
   "metadata": {},
   "outputs": [],
   "source": [
    "movies_name_set =set()\n",
    "movies_name = []\n",
    "movies_url = []"
   ]
  },
  {
   "cell_type": "code",
   "execution_count": 100,
   "metadata": {},
   "outputs": [],
   "source": [
    "def scraping(url):\n",
    "\n",
    "\n",
    "    headers = {\n",
    "        'User-Agent': 'Mozilla/5.0 (Windows NT 10.0; Win64; x64) AppleWebKit/537.36 (KHTML, like Gecko) Chrome/58.0.3029.110 Safari/537.3',\n",
    "        'Accept-Language': 'en-US,en;q=0.9',\n",
    "        'Accept-Encoding': 'gzip, deflate, br',\n",
    "        'Connection': 'keep-alive',\n",
    "        'Upgrade-Insecure-Requests': '1',\n",
    "        'Referer': 'https://www.google.com/',\n",
    "    }\n",
    "\n",
    "    response = requests.get(url, headers=headers)\n",
    "    response.raise_for_status()\n",
    "\n",
    "    soup = BeautifulSoup(response.text, 'html.parser')\n",
    "\n",
    "    movies = soup.find_all('li', {'class': \"ipc-metadata-list-summary-item\"})\n",
    "\n",
    "    movies_name_1 = []\n",
    "    movies_url_1 = []\n",
    "    \n",
    "    for mov in movies:\n",
    "        #mov = mov.find('div' , {'class' : 'ipc-title ipc-title--base ipc-title--title ipc-title-link-no-icon ipc-title--on-textPrimary sc-b189961a-9 iALATN dli-title'})\n",
    "        movie_title = mov.find('h3', {'class': 'ipc-title__text'}).text\n",
    "        movie_title = movie_title.split('. ', 1)[-1].strip()  # Simplified extraction\n",
    "\n",
    "        movies_name_1.append(movie_title)\n",
    "    flag = 0\n",
    "    for a_tag in soup.find_all('a', href=True):\n",
    "        href = a_tag['href']\n",
    "        if '/title/' in href and flag % 2 == 1:\n",
    "            url = \"https://www.imdb.com\" + href\n",
    "            movies_url_1.append(url)\n",
    "        flag = flag + 1\n",
    "    \n",
    "    add(movies_name_1,movies_url_1)\n"
   ]
  },
  {
   "cell_type": "code",
   "execution_count": 101,
   "metadata": {},
   "outputs": [],
   "source": [
    "\n",
    "\n",
    "def add(movies_name_1,movies_url_1):\n",
    "    movies_url_1 = movies_url_1[1:]\n",
    "    for i in range(0,len(movies_name_1)):\n",
    "        if movies_name_1[i] not in  movies_name_set:\n",
    "            movies_name_set.add(movies_name_1[i])\n",
    "            movies_name.append(movies_name_1[i])\n",
    "            movies_url.append(movies_url_1[i])\n",
    "        \n",
    "    print(len(movies_name_set))\n"
   ]
  },
  {
   "cell_type": "code",
   "execution_count": 102,
   "metadata": {},
   "outputs": [
    {
     "name": "stdout",
     "output_type": "stream",
     "text": [
      "25\n",
      "37\n",
      "58\n",
      "83\n",
      "94\n"
     ]
    }
   ],
   "source": [
    "urls = ['https://www.imdb.com/list/ls004221468/', 'https://www.imdb.com/list/ls047058982/' , 'https://www.imdb.com/list/ls047058982/?view=compact&genres=biography' ,'https://www.imdb.com/list/ls047058982/?view=compact&genres=family&sort=alpha%2Cdesc','https://www.imdb.com/list/ls047058982/?view=compact&genres=family%2Cromance&sort=popularity%2Casc','https://www.imdb.com/list/ls047058982/?genres=musical','https://www.imdb.com/list/ls047058982/?genres=history','https://www.imdb.com/list/ls047058982/?genres=history%2Csport','https://www.imdb.com/list/ls047058982/?genres=sport','https://www.imdb.com/list/ls047058982/?genres=fantasy','https://www.imdb.com/list/ls047058982/?genres=comedy','https://www.imdb.com/list/ls565461384/','https://www.imdb.com/list/ls523872385/','https://www.imdb.com/list/ls500849058/','https://www.imdb.com/list/ls051594496/','https://www.imdb.com/list/ls051594496/?sort=list_order%2Cdesc','https://www.imdb.com/list/ls529741921/']\n",
    "\n",
    "for item in range(0,5):\n",
    "    scraping(urls[item])"
   ]
  },
  {
   "cell_type": "code",
   "execution_count": 103,
   "metadata": {},
   "outputs": [
    {
     "name": "stdout",
     "output_type": "stream",
     "text": [
      "115\n",
      "134\n",
      "137\n",
      "149\n",
      "160\n",
      "167\n",
      "187\n",
      "210\n",
      "231\n",
      "239\n",
      "258\n",
      "267\n"
     ]
    }
   ],
   "source": [
    "for item in range(5,len(urls)):\n",
    "    scraping(urls[item])"
   ]
  },
  {
   "cell_type": "code",
   "execution_count": 104,
   "metadata": {},
   "outputs": [
    {
     "name": "stdout",
     "output_type": "stream",
     "text": [
      "<class 'list'>\n",
      "<class 'list'>\n"
     ]
    }
   ],
   "source": [
    "print(type(movies_name))\n",
    "print(type(movies_url))"
   ]
  },
  {
   "cell_type": "code",
   "execution_count": 106,
   "metadata": {},
   "outputs": [
    {
     "data": {
      "text/plain": [
       "267"
      ]
     },
     "execution_count": 106,
     "metadata": {},
     "output_type": "execute_result"
    }
   ],
   "source": [
    "len(movies_url)"
   ]
  },
  {
   "cell_type": "code",
   "execution_count": 128,
   "metadata": {},
   "outputs": [],
   "source": [
    "movie_name = []\n",
    "ratings = []\n",
    "year = []\n",
    "duration =[]\n",
    "director = []\n",
    "writers = []\n",
    "cast =[]\n",
    "user_reviews = []\n",
    "critic_reviews = []\n",
    "genre = []\n",
    "summary = []\n",
    "link = []"
   ]
  },
  {
   "cell_type": "code",
   "execution_count": 129,
   "metadata": {},
   "outputs": [],
   "source": [
    "def get_info(url,i):\n",
    "    headers1 = {\n",
    "    'User-Agent': 'Mozilla/5.0 (Windows NT 10.0; Win64; x64) AppleWebKit/537.36 (KHTML, like Gecko) Chrome/58.0.3029.110 Safari/537.3',\n",
    "    'Accept-Language': 'en-US,en;q=0.9',\n",
    "    'Accept-Encoding': 'gzip, deflate, br',\n",
    "    'Connection': 'keep-alive',\n",
    "    'Upgrade-Insecure-Requests': '1',\n",
    "    'Referer': 'https://www.google.com/',\n",
    "}\n",
    "\n",
    "    response = requests.get(url, headers=headers1 , timeout=15)\n",
    "    response.raise_for_status()\n",
    "\n",
    "    sample_soup = BeautifulSoup(response.text, 'html.parser')\n",
    "    \n",
    "    #TITLE\n",
    "    movie_name.append(movies_name[i])\n",
    "    \n",
    "    #RATINGS\n",
    "    ratings.append(sample_soup.find('span',{'class':'sc-eb51e184-1 cxhhrI'}).text)\n",
    "    \n",
    "    #DURATION AND YEAR\n",
    "    flag = 0\n",
    "    year_duration = sample_soup.find('ul',{'class' : 'ipc-inline-list ipc-inline-list--show-dividers sc-d8941411-2 cdJsTz baseAlt'})\n",
    "    year_duration = year_duration.find_all('li',{'class':'ipc-inline-list__item'})\n",
    "    for item in year_duration:\n",
    "        if flag == 0:\n",
    "            sample_year=item.text\n",
    "            year.append(sample_year)\n",
    "            flag = flag+1\n",
    "        else:\n",
    "            sample_duration = item.text\n",
    "            duration.append(sample_duration)\n",
    "            \n",
    "    #DIRECTOR AND WRITER AND CAST\n",
    "    sample_cast=[]\n",
    "    sample_writers=[]\n",
    "    flag=0\n",
    "    sample_director = \"\"\n",
    "    sample = sample_soup.find('div',{'class':'sc-1f50b7c-2 gHiRzc'})\n",
    "    sample = sample.find_all('li',{'class':'ipc-metadata-list__item'})\n",
    "    for item in sample:\n",
    "        if flag == 0:\n",
    "            sample_director = item.find('a',{'class':'ipc-metadata-list-item__list-content-item ipc-metadata-list-item__list-content-item--link'}).text\n",
    "            flag = flag + 1\n",
    "            director.append(sample_director)\n",
    "        elif flag == 1:\n",
    "            sample_writers_tag = item.find_all('li',{'class':'ipc-inline-list__item'})\n",
    "            for i in sample_writers_tag:\n",
    "                wri=i.find('a',{'class':'ipc-metadata-list-item__list-content-item ipc-metadata-list-item__list-content-item--link'}).text\n",
    "                sample_writers.append(wri)\n",
    "            flag = flag + 1\n",
    "            writers.append(sample_writers)\n",
    "        else:\n",
    "            sample_cast_tag = item.find_all('li',{'class':'ipc-inline-list__item'})\n",
    "            for i in sample_cast_tag:\n",
    "                cas=i.find('a',{'class':'ipc-metadata-list-item__list-content-item ipc-metadata-list-item__list-content-item--link'}).text\n",
    "                sample_cast.append(cas) \n",
    "            cast.append(sample_cast)\n",
    "    \n",
    "    #USER AND CRITIC REVIEWS\n",
    "    sample_number_user_reviews = \"\"\n",
    "    sample_number_critic_reviews = \"\"\n",
    "    flag = 0\n",
    "    sample_reviews = sample_soup.find_all('span',{'class':'score'})\n",
    "    for item in sample_reviews:\n",
    "        if flag == 0:\n",
    "            sample_number_user_reviews = item.text\n",
    "            flag = flag + 1\n",
    "            user_reviews.append(sample_number_user_reviews)\n",
    "        else:\n",
    "            sample_number_critic_reviews = item.text\n",
    "            critic_reviews.append(sample_number_critic_reviews)\n",
    "    \n",
    "    #GENRE\n",
    "    sample_genre=[]\n",
    "    sample_genre_tag = sample_soup.find('div',{'class':'ipc-chip-list__scroller'})\n",
    "    sample_genre_tag = sample_genre_tag.find_all('a',{'class':'ipc-chip ipc-chip--on-baseAlt'})\n",
    "    for item in sample_genre_tag:\n",
    "        g = item.find('span',{'class':'ipc-chip__text'}).text\n",
    "        sample_genre.append(g)\n",
    "    genre.append(sample_genre)\n",
    "    \n",
    "    #SUMMARY\n",
    "    sample_intro = sample_soup.find('p' , {'class' : 'sc-2d37a7c7-3 dmZChI'})\n",
    "    sample_intro = sample_intro.find('span' , {'class' : 'sc-2d37a7c7-0 caYjFF'}).text\n",
    "    summary.append(sample_intro)\n",
    "    \n",
    "    #URL\n",
    "    #link.append(movies_url[i])\n",
    "    \n",
    "        \n",
    "    "
   ]
  },
  {
   "cell_type": "code",
   "execution_count": 130,
   "metadata": {},
   "outputs": [],
   "source": [
    "for i in range(0,100):\n",
    "    get_info(movies_url[i],i)\n"
   ]
  },
  {
   "cell_type": "code",
   "execution_count": 131,
   "metadata": {},
   "outputs": [
    {
     "ename": "AttributeError",
     "evalue": "'NoneType' object has no attribute 'text'",
     "output_type": "error",
     "traceback": [
      "\u001b[1;31m---------------------------------------------------------------------------\u001b[0m",
      "\u001b[1;31mAttributeError\u001b[0m                            Traceback (most recent call last)",
      "Cell \u001b[1;32mIn[131], line 2\u001b[0m\n\u001b[0;32m      1\u001b[0m \u001b[38;5;28;01mfor\u001b[39;00m i \u001b[38;5;129;01min\u001b[39;00m \u001b[38;5;28mrange\u001b[39m(\u001b[38;5;241m100\u001b[39m,\u001b[38;5;241m250\u001b[39m):\n\u001b[1;32m----> 2\u001b[0m     \u001b[43mget_info\u001b[49m\u001b[43m(\u001b[49m\u001b[43mmovies_url\u001b[49m\u001b[43m[\u001b[49m\u001b[43mi\u001b[49m\u001b[43m]\u001b[49m\u001b[43m,\u001b[49m\u001b[43mi\u001b[49m\u001b[43m)\u001b[49m\n",
      "Cell \u001b[1;32mIn[129], line 20\u001b[0m, in \u001b[0;36mget_info\u001b[1;34m(url, i)\u001b[0m\n\u001b[0;32m     17\u001b[0m movie_name\u001b[38;5;241m.\u001b[39mappend(movies_name[i])\n\u001b[0;32m     19\u001b[0m \u001b[38;5;66;03m#RATINGS\u001b[39;00m\n\u001b[1;32m---> 20\u001b[0m ratings\u001b[38;5;241m.\u001b[39mappend(\u001b[43msample_soup\u001b[49m\u001b[38;5;241;43m.\u001b[39;49m\u001b[43mfind\u001b[49m\u001b[43m(\u001b[49m\u001b[38;5;124;43m'\u001b[39;49m\u001b[38;5;124;43mspan\u001b[39;49m\u001b[38;5;124;43m'\u001b[39;49m\u001b[43m,\u001b[49m\u001b[43m{\u001b[49m\u001b[38;5;124;43m'\u001b[39;49m\u001b[38;5;124;43mclass\u001b[39;49m\u001b[38;5;124;43m'\u001b[39;49m\u001b[43m:\u001b[49m\u001b[38;5;124;43m'\u001b[39;49m\u001b[38;5;124;43msc-eb51e184-1 cxhhrI\u001b[39;49m\u001b[38;5;124;43m'\u001b[39;49m\u001b[43m}\u001b[49m\u001b[43m)\u001b[49m\u001b[38;5;241;43m.\u001b[39;49m\u001b[43mtext\u001b[49m)\n\u001b[0;32m     22\u001b[0m \u001b[38;5;66;03m#DURATION AND YEAR\u001b[39;00m\n\u001b[0;32m     23\u001b[0m flag \u001b[38;5;241m=\u001b[39m \u001b[38;5;241m0\u001b[39m\n",
      "\u001b[1;31mAttributeError\u001b[0m: 'NoneType' object has no attribute 'text'"
     ]
    }
   ],
   "source": [
    "for i in range(100,250):\n",
    "    get_info(movies_url[i],i)"
   ]
  },
  {
   "cell_type": "code",
   "execution_count": 132,
   "metadata": {},
   "outputs": [
    {
     "name": "stdout",
     "output_type": "stream",
     "text": [
      "192\n",
      "191\n",
      "191\n",
      "312\n",
      "191\n",
      "191\n",
      "182\n",
      "180\n",
      "176\n",
      "191\n",
      "191\n",
      "267\n"
     ]
    }
   ],
   "source": [
    "print(len(movie_name))\n",
    "print(len(ratings))\n",
    "print(len(year))\n",
    "print(len(duration))\n",
    "print(len(director))\n",
    "print(len(writers))\n",
    "print(len(cast))\n",
    "print(len(user_reviews))\n",
    "print(len(critic_reviews))\n",
    "print(len(genre))\n",
    "print(len(summary))\n",
    "print(len(movies_url))"
   ]
  },
  {
   "cell_type": "code",
   "execution_count": 133,
   "metadata": {},
   "outputs": [],
   "source": [
    "for i in range(250,len(movies_url)):\n",
    "    get_info(movies_url[i],i)"
   ]
  },
  {
   "cell_type": "code",
   "execution_count": 135,
   "metadata": {},
   "outputs": [
    {
     "name": "stdout",
     "output_type": "stream",
     "text": [
      "208\n",
      "208\n",
      "208\n",
      "341\n",
      "208\n",
      "207\n",
      "198\n",
      "197\n",
      "196\n",
      "208\n",
      "208\n",
      "267\n"
     ]
    }
   ],
   "source": [
    "movie_name = movie_name[:len(movie_name) - 1]\n",
    "print(len(movie_name))\n",
    "print(len(ratings))\n",
    "print(len(year))\n",
    "print(len(duration))\n",
    "print(len(director))\n",
    "print(len(writers))\n",
    "print(len(cast))\n",
    "print(len(user_reviews))\n",
    "print(len(critic_reviews))\n",
    "print(len(genre))\n",
    "print(len(summary))\n",
    "print(len(movies_url))\n"
   ]
  },
  {
   "cell_type": "code",
   "execution_count": 136,
   "metadata": {},
   "outputs": [],
   "source": [
    "df = pd.DataFrame({'Movie Name' : movie_name , 'Rating' : ratings , 'Year' : year ,'Director' : director  , 'Genre' : genre , 'Summary' : summary })"
   ]
  },
  {
   "cell_type": "code",
   "execution_count": 137,
   "metadata": {},
   "outputs": [],
   "source": [
    "df['Genre List'] = df['Genre'].apply(lambda x: ', '.join(x))\n",
    "for item in df.index:\n",
    "    genre_list = df['Genre'][item]\n",
    "    df['Genre'][item]=genre_list[0]\n",
    "    "
   ]
  },
  {
   "cell_type": "code",
   "execution_count": 138,
   "metadata": {},
   "outputs": [
    {
     "name": "stdout",
     "output_type": "stream",
     "text": [
      "<class 'pandas.core.frame.DataFrame'>\n",
      "RangeIndex: 208 entries, 0 to 207\n",
      "Data columns (total 7 columns):\n",
      " #   Column      Non-Null Count  Dtype \n",
      "---  ------      --------------  ----- \n",
      " 0   Movie Name  208 non-null    object\n",
      " 1   Rating      208 non-null    object\n",
      " 2   Year        208 non-null    object\n",
      " 3   Director    208 non-null    object\n",
      " 4   Genre       208 non-null    object\n",
      " 5   Summary     208 non-null    object\n",
      " 6   Genre List  208 non-null    object\n",
      "dtypes: object(7)\n",
      "memory usage: 11.5+ KB\n"
     ]
    }
   ],
   "source": [
    "df.info()"
   ]
  },
  {
   "cell_type": "code",
   "execution_count": 141,
   "metadata": {},
   "outputs": [],
   "source": [
    "df.to_csv('movie_list1.csv', index=False)"
   ]
  },
  {
   "cell_type": "code",
   "execution_count": 139,
   "metadata": {},
   "outputs": [
    {
     "data": {
      "text/html": [
       "<div>\n",
       "<style scoped>\n",
       "    .dataframe tbody tr th:only-of-type {\n",
       "        vertical-align: middle;\n",
       "    }\n",
       "\n",
       "    .dataframe tbody tr th {\n",
       "        vertical-align: top;\n",
       "    }\n",
       "\n",
       "    .dataframe thead th {\n",
       "        text-align: right;\n",
       "    }\n",
       "</style>\n",
       "<table border=\"1\" class=\"dataframe\">\n",
       "  <thead>\n",
       "    <tr style=\"text-align: right;\">\n",
       "      <th></th>\n",
       "      <th>Movie Name</th>\n",
       "      <th>Rating</th>\n",
       "      <th>Year</th>\n",
       "      <th>Director</th>\n",
       "      <th>Genre</th>\n",
       "      <th>Summary</th>\n",
       "      <th>Genre List</th>\n",
       "    </tr>\n",
       "  </thead>\n",
       "  <tbody>\n",
       "    <tr>\n",
       "      <th>0</th>\n",
       "      <td>Udaan</td>\n",
       "      <td>8.1</td>\n",
       "      <td>2010</td>\n",
       "      <td>Vikramaditya Motwane</td>\n",
       "      <td>Drama</td>\n",
       "      <td>Expelled from his school, a 16-year old boy re...</td>\n",
       "      <td>Drama</td>\n",
       "    </tr>\n",
       "    <tr>\n",
       "      <th>1</th>\n",
       "      <td>Gangs of Wasseypur</td>\n",
       "      <td>8.2</td>\n",
       "      <td>2012</td>\n",
       "      <td>Anurag Kashyap</td>\n",
       "      <td>Action</td>\n",
       "      <td>A clash between Sultan and Shahid Khan leads t...</td>\n",
       "      <td>Action, Comedy, Crime</td>\n",
       "    </tr>\n",
       "    <tr>\n",
       "      <th>2</th>\n",
       "      <td>Like Stars on Earth</td>\n",
       "      <td>8.3</td>\n",
       "      <td>2007</td>\n",
       "      <td>Aamir Khan</td>\n",
       "      <td>Drama</td>\n",
       "      <td>An eight-year-old boy is thought to be a lazy ...</td>\n",
       "      <td>Drama, Family</td>\n",
       "    </tr>\n",
       "    <tr>\n",
       "      <th>3</th>\n",
       "      <td>Dev.D</td>\n",
       "      <td>7.9</td>\n",
       "      <td>2009</td>\n",
       "      <td>Anurag Kashyap</td>\n",
       "      <td>Comedy</td>\n",
       "      <td>After breaking up with his childhood sweethear...</td>\n",
       "      <td>Comedy, Drama, Romance</td>\n",
       "    </tr>\n",
       "    <tr>\n",
       "      <th>4</th>\n",
       "      <td>Swades</td>\n",
       "      <td>8.2</td>\n",
       "      <td>2004</td>\n",
       "      <td>Ashutosh Gowariker</td>\n",
       "      <td>Drama</td>\n",
       "      <td>A successful Indian scientist returns to an In...</td>\n",
       "      <td>Drama, Musical</td>\n",
       "    </tr>\n",
       "  </tbody>\n",
       "</table>\n",
       "</div>"
      ],
      "text/plain": [
       "            Movie Name Rating  Year              Director   Genre   \n",
       "0                Udaan    8.1  2010  Vikramaditya Motwane   Drama  \\\n",
       "1   Gangs of Wasseypur    8.2  2012        Anurag Kashyap  Action   \n",
       "2  Like Stars on Earth    8.3  2007            Aamir Khan   Drama   \n",
       "3                Dev.D    7.9  2009        Anurag Kashyap  Comedy   \n",
       "4               Swades    8.2  2004    Ashutosh Gowariker   Drama   \n",
       "\n",
       "                                             Summary              Genre List  \n",
       "0  Expelled from his school, a 16-year old boy re...                   Drama  \n",
       "1  A clash between Sultan and Shahid Khan leads t...   Action, Comedy, Crime  \n",
       "2  An eight-year-old boy is thought to be a lazy ...           Drama, Family  \n",
       "3  After breaking up with his childhood sweethear...  Comedy, Drama, Romance  \n",
       "4  A successful Indian scientist returns to an In...          Drama, Musical  "
      ]
     },
     "execution_count": 139,
     "metadata": {},
     "output_type": "execute_result"
    }
   ],
   "source": [
    "df.head()"
   ]
  },
  {
   "cell_type": "code",
   "execution_count": null,
   "metadata": {},
   "outputs": [],
   "source": []
  }
 ],
 "metadata": {
  "kernelspec": {
   "display_name": "Python 3",
   "language": "python",
   "name": "python3"
  },
  "language_info": {
   "codemirror_mode": {
    "name": "ipython",
    "version": 3
   },
   "file_extension": ".py",
   "mimetype": "text/x-python",
   "name": "python",
   "nbconvert_exporter": "python",
   "pygments_lexer": "ipython3",
   "version": "3.10.11"
  }
 },
 "nbformat": 4,
 "nbformat_minor": 2
}
