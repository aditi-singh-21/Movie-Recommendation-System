{
 "cells": [
  {
   "cell_type": "code",
   "execution_count": 2,
   "metadata": {},
   "outputs": [],
   "source": [
    "import pandas as pd"
   ]
  },
  {
   "cell_type": "code",
   "execution_count": 3,
   "metadata": {},
   "outputs": [],
   "source": [
    "df = pd.read_csv(r'C:\\Users\\aditi\\OneDrive\\Desktop\\PROJECTS\\Movie-Recommendation-System\\final_dta.csv')"
   ]
  },
  {
   "cell_type": "code",
   "execution_count": 4,
   "metadata": {},
   "outputs": [
    {
     "name": "stdout",
     "output_type": "stream",
     "text": [
      "<class 'pandas.core.frame.DataFrame'>\n",
      "RangeIndex: 453 entries, 0 to 452\n",
      "Data columns (total 7 columns):\n",
      " #   Column      Non-Null Count  Dtype  \n",
      "---  ------      --------------  -----  \n",
      " 0   Movie Name  453 non-null    object \n",
      " 1   Rating      453 non-null    float64\n",
      " 2   Year        453 non-null    object \n",
      " 3   Director    453 non-null    object \n",
      " 4   Genre       453 non-null    object \n",
      " 5   Summary     453 non-null    object \n",
      " 6   Genre List  453 non-null    object \n",
      "dtypes: float64(1), object(6)\n",
      "memory usage: 24.9+ KB\n"
     ]
    }
   ],
   "source": [
    "df.info()"
   ]
  },
  {
   "cell_type": "code",
   "execution_count": 5,
   "metadata": {},
   "outputs": [],
   "source": [
    "df_temp = df.drop_duplicates()"
   ]
  },
  {
   "cell_type": "code",
   "execution_count": 6,
   "metadata": {},
   "outputs": [
    {
     "name": "stdout",
     "output_type": "stream",
     "text": [
      "<class 'pandas.core.frame.DataFrame'>\n",
      "RangeIndex: 453 entries, 0 to 452\n",
      "Data columns (total 7 columns):\n",
      " #   Column      Non-Null Count  Dtype  \n",
      "---  ------      --------------  -----  \n",
      " 0   Movie Name  453 non-null    object \n",
      " 1   Rating      453 non-null    float64\n",
      " 2   Year        453 non-null    object \n",
      " 3   Director    453 non-null    object \n",
      " 4   Genre       453 non-null    object \n",
      " 5   Summary     453 non-null    object \n",
      " 6   Genre List  453 non-null    object \n",
      "dtypes: float64(1), object(6)\n",
      "memory usage: 24.9+ KB\n"
     ]
    }
   ],
   "source": [
    "df_temp.info()"
   ]
  },
  {
   "cell_type": "code",
   "execution_count": 7,
   "metadata": {},
   "outputs": [],
   "source": [
    "df_temp = df.drop_duplicates(subset=['Movie Name'])"
   ]
  },
  {
   "cell_type": "code",
   "execution_count": 8,
   "metadata": {},
   "outputs": [
    {
     "name": "stdout",
     "output_type": "stream",
     "text": [
      "<class 'pandas.core.frame.DataFrame'>\n",
      "Index: 383 entries, 0 to 452\n",
      "Data columns (total 7 columns):\n",
      " #   Column      Non-Null Count  Dtype  \n",
      "---  ------      --------------  -----  \n",
      " 0   Movie Name  383 non-null    object \n",
      " 1   Rating      383 non-null    float64\n",
      " 2   Year        383 non-null    object \n",
      " 3   Director    383 non-null    object \n",
      " 4   Genre       383 non-null    object \n",
      " 5   Summary     383 non-null    object \n",
      " 6   Genre List  383 non-null    object \n",
      "dtypes: float64(1), object(6)\n",
      "memory usage: 23.9+ KB\n"
     ]
    }
   ],
   "source": [
    "df_temp.info()"
   ]
  },
  {
   "cell_type": "code",
   "execution_count": 9,
   "metadata": {},
   "outputs": [
    {
     "data": {
      "text/html": [
       "<div>\n",
       "<style scoped>\n",
       "    .dataframe tbody tr th:only-of-type {\n",
       "        vertical-align: middle;\n",
       "    }\n",
       "\n",
       "    .dataframe tbody tr th {\n",
       "        vertical-align: top;\n",
       "    }\n",
       "\n",
       "    .dataframe thead th {\n",
       "        text-align: right;\n",
       "    }\n",
       "</style>\n",
       "<table border=\"1\" class=\"dataframe\">\n",
       "  <thead>\n",
       "    <tr style=\"text-align: right;\">\n",
       "      <th></th>\n",
       "      <th>Movie Name</th>\n",
       "      <th>Rating</th>\n",
       "      <th>Year</th>\n",
       "      <th>Director</th>\n",
       "      <th>Genre</th>\n",
       "      <th>Summary</th>\n",
       "      <th>Genre List</th>\n",
       "    </tr>\n",
       "  </thead>\n",
       "  <tbody>\n",
       "    <tr>\n",
       "      <th>0</th>\n",
       "      <td>Udaan</td>\n",
       "      <td>8.1</td>\n",
       "      <td>2010</td>\n",
       "      <td>Vikramaditya Motwane</td>\n",
       "      <td>Drama</td>\n",
       "      <td>Expelled from his school, a 16-year old boy re...</td>\n",
       "      <td>Drama</td>\n",
       "    </tr>\n",
       "    <tr>\n",
       "      <th>1</th>\n",
       "      <td>Gangs of Wasseypur</td>\n",
       "      <td>8.2</td>\n",
       "      <td>2012</td>\n",
       "      <td>Anurag Kashyap</td>\n",
       "      <td>Action</td>\n",
       "      <td>A clash between Sultan and Shahid Khan leads t...</td>\n",
       "      <td>Action, Comedy, Crime</td>\n",
       "    </tr>\n",
       "    <tr>\n",
       "      <th>2</th>\n",
       "      <td>Like Stars on Earth</td>\n",
       "      <td>8.3</td>\n",
       "      <td>2007</td>\n",
       "      <td>Aamir Khan</td>\n",
       "      <td>Drama</td>\n",
       "      <td>An eight-year-old boy is thought to be a lazy ...</td>\n",
       "      <td>Drama, Family</td>\n",
       "    </tr>\n",
       "    <tr>\n",
       "      <th>3</th>\n",
       "      <td>Dev.D</td>\n",
       "      <td>7.9</td>\n",
       "      <td>2009</td>\n",
       "      <td>Anurag Kashyap</td>\n",
       "      <td>Comedy</td>\n",
       "      <td>After breaking up with his childhood sweethear...</td>\n",
       "      <td>Comedy, Drama, Romance</td>\n",
       "    </tr>\n",
       "    <tr>\n",
       "      <th>4</th>\n",
       "      <td>Swades</td>\n",
       "      <td>8.2</td>\n",
       "      <td>2004</td>\n",
       "      <td>Ashutosh Gowariker</td>\n",
       "      <td>Drama</td>\n",
       "      <td>A successful Indian scientist returns to an In...</td>\n",
       "      <td>Drama, Musical</td>\n",
       "    </tr>\n",
       "  </tbody>\n",
       "</table>\n",
       "</div>"
      ],
      "text/plain": [
       "            Movie Name  Rating  Year              Director   Genre   \n",
       "0                Udaan     8.1  2010  Vikramaditya Motwane   Drama  \\\n",
       "1   Gangs of Wasseypur     8.2  2012        Anurag Kashyap  Action   \n",
       "2  Like Stars on Earth     8.3  2007            Aamir Khan   Drama   \n",
       "3                Dev.D     7.9  2009        Anurag Kashyap  Comedy   \n",
       "4               Swades     8.2  2004    Ashutosh Gowariker   Drama   \n",
       "\n",
       "                                             Summary              Genre List  \n",
       "0  Expelled from his school, a 16-year old boy re...                   Drama  \n",
       "1  A clash between Sultan and Shahid Khan leads t...   Action, Comedy, Crime  \n",
       "2  An eight-year-old boy is thought to be a lazy ...           Drama, Family  \n",
       "3  After breaking up with his childhood sweethear...  Comedy, Drama, Romance  \n",
       "4  A successful Indian scientist returns to an In...          Drama, Musical  "
      ]
     },
     "execution_count": 9,
     "metadata": {},
     "output_type": "execute_result"
    }
   ],
   "source": [
    "df_temp.head()"
   ]
  },
  {
   "cell_type": "code",
   "execution_count": 10,
   "metadata": {},
   "outputs": [
    {
     "data": {
      "text/plain": [
       "Movie Name\n",
       "Udaan              1\n",
       "Super Deluxe       1\n",
       "Jana Gana Mana     1\n",
       "Aaranya Kaandam    1\n",
       "Pudhu Pettai       1\n",
       "                  ..\n",
       "Firaaq             1\n",
       "Gold               1\n",
       "Bajirao Mastani    1\n",
       "Kesari             1\n",
       "Poove Unakkaga     1\n",
       "Name: count, Length: 383, dtype: int64"
      ]
     },
     "execution_count": 10,
     "metadata": {},
     "output_type": "execute_result"
    }
   ],
   "source": [
    "df_temp['Movie Name'].value_counts()"
   ]
  },
  {
   "cell_type": "code",
   "execution_count": 11,
   "metadata": {},
   "outputs": [],
   "source": [
    "df = df_temp"
   ]
  },
  {
   "cell_type": "code",
   "execution_count": 16,
   "metadata": {},
   "outputs": [
    {
     "data": {
      "text/plain": [
       "array(['2010', '2012', '2007', '2009', '2004', '2006', '2016', '2015',\n",
       "       '2005', '1994', '1957', '1983', '2008', '2001', '2014', '1971',\n",
       "       '1979', '1975', '1965', '1960', '2000', '2013', '1992', '1998',\n",
       "       '2002', '2011', '2018', '1990', '2019', '2020', '2017', '2021',\n",
       "       '2022', '1976', '1981', '2023', '1973', '1951', '1964', '1956',\n",
       "       '1972', '1950', '1978', '1970', '1953', '1974', '2003', '1987',\n",
       "       '1993', '1988', '1999', '1995', '1989', '1991', '1997', '1977',\n",
       "       '1946', '2024', '1940', '1955', '1948', '1968', 'TV Series',\n",
       "       '1959', '1982', '1996', '1958'], dtype=object)"
      ]
     },
     "execution_count": 16,
     "metadata": {},
     "output_type": "execute_result"
    }
   ],
   "source": [
    "df['Year'].unique()"
   ]
  },
  {
   "cell_type": "code",
   "execution_count": 18,
   "metadata": {},
   "outputs": [],
   "source": [
    "for i in df.index:\n",
    "    if(df['Year'][i] == 'TV Series'):\n",
    "        df['Year'][i] = '2024'"
   ]
  },
  {
   "cell_type": "code",
   "execution_count": 19,
   "metadata": {},
   "outputs": [
    {
     "data": {
      "text/plain": [
       "array(['2010', '2012', '2007', '2009', '2004', '2006', '2016', '2015',\n",
       "       '2005', '1994', '1957', '1983', '2008', '2001', '2014', '1971',\n",
       "       '1979', '1975', '1965', '1960', '2000', '2013', '1992', '1998',\n",
       "       '2002', '2011', '2018', '1990', '2019', '2020', '2017', '2021',\n",
       "       '2022', '1976', '1981', '2023', '1973', '1951', '1964', '1956',\n",
       "       '1972', '1950', '1978', '1970', '1953', '1974', '2003', '1987',\n",
       "       '1993', '1988', '1999', '1995', '1989', '1991', '1997', '1977',\n",
       "       '1946', '2024', '1940', '1955', '1948', '1968', '1959', '1982',\n",
       "       '1996', '1958'], dtype=object)"
      ]
     },
     "execution_count": 19,
     "metadata": {},
     "output_type": "execute_result"
    }
   ],
   "source": [
    "df['Year'].unique()"
   ]
  },
  {
   "cell_type": "code",
   "execution_count": 20,
   "metadata": {},
   "outputs": [],
   "source": [
    "data_types = { 'Rating' : float , 'Year' : int }\n",
    "\n",
    "df = df.astype(data_types)"
   ]
  },
  {
   "cell_type": "code",
   "execution_count": 22,
   "metadata": {},
   "outputs": [],
   "source": [
    "df.to_csv('final_dta.csv', index=False)"
   ]
  },
  {
   "cell_type": "code",
   "execution_count": null,
   "metadata": {},
   "outputs": [],
   "source": []
  }
 ],
 "metadata": {
  "kernelspec": {
   "display_name": "Python 3",
   "language": "python",
   "name": "python3"
  },
  "language_info": {
   "codemirror_mode": {
    "name": "ipython",
    "version": 3
   },
   "file_extension": ".py",
   "mimetype": "text/x-python",
   "name": "python",
   "nbconvert_exporter": "python",
   "pygments_lexer": "ipython3",
   "version": "3.10.11"
  }
 },
 "nbformat": 4,
 "nbformat_minor": 2
}
