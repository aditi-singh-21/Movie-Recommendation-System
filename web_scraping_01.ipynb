{
 "cells": [
  {
   "cell_type": "code",
   "execution_count": 1,
   "metadata": {},
   "outputs": [],
   "source": [
    "import re\n",
    "from bs4 import BeautifulSoup\n",
    "from urllib.request import urlopen\n",
    "import pandas as pd\n",
    "import numpy as np\n",
    "import requests"
   ]
  },
  {
   "cell_type": "code",
   "execution_count": 12,
   "metadata": {},
   "outputs": [],
   "source": [
    "movies_name=[]\n",
    "movies_url=[]"
   ]
  },
  {
   "cell_type": "code",
   "execution_count": 13,
   "metadata": {},
   "outputs": [
    {
     "name": "stdout",
     "output_type": "stream",
     "text": [
      "Top Rated Indian Movies - IMDb\n"
     ]
    }
   ],
   "source": [
    "\n",
    "\n",
    "url = 'https://www.imdb.com/india/top-rated-indian-movies'\n",
    "\n",
    "\n",
    "headers = {\n",
    "    'User-Agent': 'Mozilla/5.0 (Windows NT 10.0; Win64; x64) AppleWebKit/537.36 (KHTML, like Gecko) Chrome/58.0.3029.110 Safari/537.3',\n",
    "    'Accept-Language': 'en-US,en;q=0.9',\n",
    "    'Accept-Encoding': 'gzip, deflate, br',\n",
    "    'Connection': 'keep-alive',\n",
    "    'Upgrade-Insecure-Requests': '1',\n",
    "    'Referer': 'https://www.google.com/',\n",
    "}\n",
    "\n",
    "response = requests.get(url, headers=headers)\n",
    "response.raise_for_status()\n",
    "\n",
    "soup = BeautifulSoup(response.text, 'html.parser')\n",
    "print(soup.title.text)\n"
   ]
  },
  {
   "cell_type": "code",
   "execution_count": 14,
   "metadata": {},
   "outputs": [],
   "source": [
    "movies = soup.find_all('li',{'class' : \"ipc-metadata-list__item ipc-metadata-list__item--inline ipc-metadata-list-item--link\"})\n",
    "\n",
    "for mov in movies:\n",
    "    parent_span = mov.find('span', class_='sc-551fcf62-4 iYlNDF')\n",
    "    if parent_span:\n",
    "        nested_span = parent_span.find('span', class_='sc-551fcf62-5 igzEFP')\n",
    "        if nested_span:\n",
    "           nested_span.extract()  # Remove the nested span\n",
    "           title = parent_span.text.strip()\n",
    "           movies_name.append(title)\n",
    "    for a_tag in soup.find_all('a', href=True):\n",
    "        href = a_tag['href']\n",
    "        if '/title/' in href:\n",
    "            url = \"https://www.imdb.com\" + href\n",
    "            movies_url.append(url)"
   ]
  },
  {
   "cell_type": "code",
   "execution_count": 15,
   "metadata": {},
   "outputs": [
    {
     "data": {
      "text/plain": [
       "250"
      ]
     },
     "execution_count": 15,
     "metadata": {},
     "output_type": "execute_result"
    }
   ],
   "source": [
    "len(movies_name)"
   ]
  },
  {
   "cell_type": "code",
   "execution_count": 16,
   "metadata": {},
   "outputs": [],
   "source": [
    "movies_url=movies_url[1:]\n",
    "movies_url = movies_url[0:250]\n",
    "movies_url.append(\"https://www.imdb.com/title/tt2325915/?ref_=fea_eds_center-3_IndiaTop250_249\")"
   ]
  },
  {
   "cell_type": "code",
   "execution_count": 17,
   "metadata": {},
   "outputs": [
    {
     "name": "stdout",
     "output_type": "stream",
     "text": [
      "250\n",
      "250\n"
     ]
    }
   ],
   "source": [
    "movies_url=movies_url[1:]\n",
    "print(len(movies_name))\n",
    "print(len(movies_url))\n"
   ]
  },
  {
   "cell_type": "code",
   "execution_count": 18,
   "metadata": {},
   "outputs": [
    {
     "name": "stdout",
     "output_type": "stream",
     "text": [
      "Nayakan (1987) - IMDb\n",
      "8.7\n",
      "1987\n",
      "2h 25m\n",
      "A common man's struggles against a corrupt police force put him on the wrong side of the law. He becomes a don, who is loved and respected by many, but his growing power and influence exact ... Read all\n",
      "['Crime', 'Drama']\n",
      "['Balakumaran', 'Rajasri', 'Mani Ratnam']\n",
      "Mani Ratnam\n",
      "['Kamal Haasan', 'Saranya Ponvannan', 'Delhi Ganesh']\n",
      "237\n",
      "11\n"
     ]
    }
   ],
   "source": [
    "#SAMPLE TESTING\n",
    "\n",
    "sample_url = movies_url[1]\n",
    "sample_title = movies_name[1]\n",
    "\n",
    "headers = {\n",
    "    'User-Agent': 'Mozilla/5.0 (Windows NT 10.0; Win64; x64) AppleWebKit/537.36 (KHTML, like Gecko) Chrome/58.0.3029.110 Safari/537.3',\n",
    "    'Accept-Language': 'en-US,en;q=0.9',\n",
    "    'Accept-Encoding': 'gzip, deflate, br',\n",
    "    'Connection': 'keep-alive',\n",
    "    'Upgrade-Insecure-Requests': '1',\n",
    "    'Referer': 'https://www.google.com/',\n",
    "}\n",
    "\n",
    "response = requests.get(sample_url, headers=headers)\n",
    "response.raise_for_status()\n",
    "\n",
    "sample_soup = BeautifulSoup(response.text, 'html.parser')\n",
    "print(sample_soup.title.text)\n",
    "\n",
    "sample_rating = sample_soup.find('span',{'class':'sc-eb51e184-1 cxhhrI'}).text\n",
    "print(sample_rating)\n",
    "\n",
    "flag = 0\n",
    "year_duration = sample_soup.find('ul',{'class' : 'ipc-inline-list ipc-inline-list--show-dividers sc-d8941411-2 cdJsTz baseAlt'})\n",
    "year_duration = year_duration.find_all('li',{'class':'ipc-inline-list__item'})\n",
    "for item in year_duration:\n",
    "    if flag == 0:\n",
    "        sample_year=item.text\n",
    "        flag = flag+1\n",
    "    else:\n",
    "        sample_duration = item.text\n",
    "\n",
    "print(sample_year)\n",
    "print(sample_duration)\n",
    "\n",
    "sample_intro = sample_soup.find('p' , {'class' : 'sc-2d37a7c7-3 dmZChI'})\n",
    "sample_intro = sample_intro.find('span' , {'class' : 'sc-2d37a7c7-0 caYjFF'}).text\n",
    "print(sample_intro)\n",
    "\n",
    "sample_genre=[]\n",
    "sample_genre_tag = sample_soup.find('div',{'class':'ipc-chip-list__scroller'})\n",
    "sample_genre_tag = sample_genre_tag.find_all('a',{'class':'ipc-chip ipc-chip--on-baseAlt'})\n",
    "for item in sample_genre_tag:\n",
    "    g = item.find('span',{'class':'ipc-chip__text'}).text\n",
    "    sample_genre.append(g)\n",
    "print(sample_genre)\n",
    "\n",
    "\n",
    "sample_cast=[]\n",
    "sample_writers=[]\n",
    "flag=0\n",
    "sample_director = \"\"\n",
    "sample = sample_soup.find('div',{'class':'sc-1f50b7c-2 gHiRzc'})\n",
    "sample = sample.find_all('li',{'class':'ipc-metadata-list__item'})\n",
    "for item in sample:\n",
    "    if flag == 0:\n",
    "        sample_director = item.find('a',{'class':'ipc-metadata-list-item__list-content-item ipc-metadata-list-item__list-content-item--link'}).text\n",
    "        flag = flag + 1\n",
    "    elif flag == 1:\n",
    "        sample_writers_tag = item.find_all('li',{'class':'ipc-inline-list__item'})\n",
    "        for i in sample_writers_tag:\n",
    "            wri=i.find('a',{'class':'ipc-metadata-list-item__list-content-item ipc-metadata-list-item__list-content-item--link'}).text\n",
    "            sample_writers.append(wri)\n",
    "        flag = flag + 1\n",
    "    else:\n",
    "        sample_cast_tag = item.find_all('li',{'class':'ipc-inline-list__item'})\n",
    "        for i in sample_cast_tag:\n",
    "            cast=i.find('a',{'class':'ipc-metadata-list-item__list-content-item ipc-metadata-list-item__list-content-item--link'}).text\n",
    "            sample_cast.append(cast)\n",
    "\n",
    "print(sample_writers)\n",
    "print(sample_director)\n",
    "print(sample_cast)\n",
    "        \n",
    "sample_number_user_reviews = \"\"\n",
    "sample_number_critic_reviews = \"\"\n",
    "flag = 0\n",
    "sample_reviews = sample_soup.find_all('span',{'class':'score'})\n",
    "for item in sample_reviews:\n",
    "    if flag == 0:\n",
    "        sample_number_user_reviews = item.text\n",
    "        flag = flag + 1\n",
    "    else:\n",
    "        sample_number_critic_reviews = item.text\n",
    "        \n",
    "print(sample_number_user_reviews)\n",
    "print(sample_number_critic_reviews)\n",
    "        \n"
   ]
  },
  {
   "cell_type": "code",
   "execution_count": 19,
   "metadata": {},
   "outputs": [],
   "source": [
    "movie_name = []\n",
    "ratings = []\n",
    "year = []\n",
    "duration =[]\n",
    "director = []\n",
    "writers = []\n",
    "cast =[]\n",
    "user_reviews = []\n",
    "critic_reviews = []\n",
    "genre = []\n",
    "summary = []\n",
    "link = []\n",
    "\n"
   ]
  },
  {
   "cell_type": "code",
   "execution_count": 20,
   "metadata": {},
   "outputs": [],
   "source": [
    "def get_info(url,i):\n",
    "    headers = {\n",
    "    'User-Agent': 'Mozilla/5.0 (Windows NT 10.0; Win64; x64) AppleWebKit/537.36 (KHTML, like Gecko) Chrome/58.0.3029.110 Safari/537.3',\n",
    "    'Accept-Language': 'en-US,en;q=0.9',\n",
    "    'Accept-Encoding': 'gzip, deflate, br',\n",
    "    'Connection': 'keep-alive',\n",
    "    'Upgrade-Insecure-Requests': '1',\n",
    "    'Referer': 'https://www.google.com/',\n",
    "}\n",
    "\n",
    "    response = requests.get(url, headers=headers , timeout=15)\n",
    "    response.raise_for_status()\n",
    "\n",
    "    sample_soup = BeautifulSoup(response.text, 'html.parser')\n",
    "    \n",
    "    #TITLE\n",
    "    movie_name.append(movies_name[i])\n",
    "    \n",
    "    #RATINGS\n",
    "    ratings.append(sample_soup.find('span',{'class':'sc-eb51e184-1 cxhhrI'}).text)\n",
    "    \n",
    "    #DURATION AND YEAR\n",
    "    flag = 0\n",
    "    year_duration = sample_soup.find('ul',{'class' : 'ipc-inline-list ipc-inline-list--show-dividers sc-d8941411-2 cdJsTz baseAlt'})\n",
    "    year_duration = year_duration.find_all('li',{'class':'ipc-inline-list__item'})\n",
    "    for item in year_duration:\n",
    "        if flag == 0:\n",
    "            sample_year=item.text\n",
    "            year.append(sample_year)\n",
    "            flag = flag+1\n",
    "        else:\n",
    "            sample_duration = item.text\n",
    "            duration.append(sample_duration)\n",
    "            \n",
    "    #DIRECTOR AND WRITER AND CAST\n",
    "    sample_cast=[]\n",
    "    sample_writers=[]\n",
    "    flag=0\n",
    "    sample_director = \"\"\n",
    "    sample = sample_soup.find('div',{'class':'sc-1f50b7c-2 gHiRzc'})\n",
    "    sample = sample.find_all('li',{'class':'ipc-metadata-list__item'})\n",
    "    for item in sample:\n",
    "        if flag == 0:\n",
    "            sample_director = item.find('a',{'class':'ipc-metadata-list-item__list-content-item ipc-metadata-list-item__list-content-item--link'}).text\n",
    "            flag = flag + 1\n",
    "            director.append(sample_director)\n",
    "        elif flag == 1:\n",
    "            sample_writers_tag = item.find_all('li',{'class':'ipc-inline-list__item'})\n",
    "            for i in sample_writers_tag:\n",
    "                wri=i.find('a',{'class':'ipc-metadata-list-item__list-content-item ipc-metadata-list-item__list-content-item--link'}).text\n",
    "                sample_writers.append(wri)\n",
    "            flag = flag + 1\n",
    "            writers.append(sample_writers)\n",
    "        else:\n",
    "            sample_cast_tag = item.find_all('li',{'class':'ipc-inline-list__item'})\n",
    "            for i in sample_cast_tag:\n",
    "                cas=i.find('a',{'class':'ipc-metadata-list-item__list-content-item ipc-metadata-list-item__list-content-item--link'}).text\n",
    "                sample_cast.append(cas) \n",
    "            cast.append(sample_cast)\n",
    "    \n",
    "    #USER AND CRITIC REVIEWS\n",
    "    sample_number_user_reviews = \"\"\n",
    "    sample_number_critic_reviews = \"\"\n",
    "    flag = 0\n",
    "    sample_reviews = sample_soup.find_all('span',{'class':'score'})\n",
    "    for item in sample_reviews:\n",
    "        if flag == 0:\n",
    "            sample_number_user_reviews = item.text\n",
    "            flag = flag + 1\n",
    "            user_reviews.append(sample_number_user_reviews)\n",
    "        else:\n",
    "            sample_number_critic_reviews = item.text\n",
    "            critic_reviews.append(sample_number_critic_reviews)\n",
    "    \n",
    "    #GENRE\n",
    "    sample_genre=[]\n",
    "    sample_genre_tag = sample_soup.find('div',{'class':'ipc-chip-list__scroller'})\n",
    "    sample_genre_tag = sample_genre_tag.find_all('a',{'class':'ipc-chip ipc-chip--on-baseAlt'})\n",
    "    for item in sample_genre_tag:\n",
    "        g = item.find('span',{'class':'ipc-chip__text'}).text\n",
    "        sample_genre.append(g)\n",
    "    genre.append(sample_genre)\n",
    "    \n",
    "    #SUMMARY\n",
    "    sample_intro = sample_soup.find('p' , {'class' : 'sc-2d37a7c7-3 dmZChI'})\n",
    "    sample_intro = sample_intro.find('span' , {'class' : 'sc-2d37a7c7-0 caYjFF'}).text\n",
    "    summary.append(sample_intro)\n",
    "    \n",
    "    #URL\n",
    "    #link.append(movies_url[i])\n",
    "    \n",
    "        \n",
    "    "
   ]
  },
  {
   "cell_type": "code",
   "execution_count": 21,
   "metadata": {},
   "outputs": [],
   "source": [
    "for i in range(0,100):\n",
    "    get_info(movies_url[i],i)"
   ]
  },
  {
   "cell_type": "code",
   "execution_count": 22,
   "metadata": {},
   "outputs": [],
   "source": [
    "for i in range(100,250):\n",
    "    get_info(movies_url[i],i)"
   ]
  },
  {
   "cell_type": "code",
   "execution_count": 23,
   "metadata": {},
   "outputs": [],
   "source": [
    "for i in range(250,len(movies_url)):\n",
    "    get_info(movies_url[i],i)"
   ]
  },
  {
   "cell_type": "code",
   "execution_count": 24,
   "metadata": {},
   "outputs": [
    {
     "name": "stdout",
     "output_type": "stream",
     "text": [
      "250\n",
      "250\n",
      "250\n",
      "440\n",
      "250\n",
      "250\n",
      "250\n",
      "250\n",
      "257\n",
      "250\n",
      "250\n",
      "250\n"
     ]
    }
   ],
   "source": [
    "print(len(movie_name))\n",
    "print(len(ratings))\n",
    "print(len(year))\n",
    "print(len(duration))\n",
    "print(len(director))\n",
    "print(len(writers))\n",
    "print(len(cast))\n",
    "print(len(user_reviews))\n",
    "print(len(critic_reviews))\n",
    "print(len(genre))\n",
    "print(len(summary))\n",
    "print(len(movies_url))"
   ]
  },
  {
   "cell_type": "code",
   "execution_count": 28,
   "metadata": {},
   "outputs": [],
   "source": [
    "df = pd.DataFrame({'Movie Name' : movie_name , 'Rating' : ratings , 'Year' : year ,'Director' : director , 'Genre' : genre , 'Summary' : summary })"
   ]
  },
  {
   "cell_type": "code",
   "execution_count": 30,
   "metadata": {},
   "outputs": [],
   "source": [
    "df['Genre List'] = df['Genre'].apply(lambda x: ', '.join(x))\n",
    "for item in df.index:\n",
    "    genre_list = df['Genre'][item]\n",
    "    df['Genre'][item]=genre_list[0]\n",
    "    writers_list = df['Writers'][item]\n",
    "    df['Writers'][item]=writers_list[0]"
   ]
  },
  {
   "cell_type": "code",
   "execution_count": 31,
   "metadata": {},
   "outputs": [],
   "source": [
    "#df['Genre'][249] ='Comedy'"
   ]
  },
  {
   "cell_type": "code",
   "execution_count": 32,
   "metadata": {},
   "outputs": [],
   "source": [
    "#df['Genre'].unique()"
   ]
  },
  {
   "cell_type": "code",
   "execution_count": 33,
   "metadata": {},
   "outputs": [],
   "source": [
    "cast_1 = []\n",
    "cast_2 = []\n",
    "for item in df.index:\n",
    "    cast_list = df['Cast'][item]\n",
    "    cast_1.append(cast_list[0])\n",
    "    cast_2.append(cast_list[1])"
   ]
  },
  {
   "cell_type": "code",
   "execution_count": 34,
   "metadata": {},
   "outputs": [],
   "source": [
    "df['Cast 1'] = cast_1"
   ]
  },
  {
   "cell_type": "code",
   "execution_count": 35,
   "metadata": {},
   "outputs": [],
   "source": [
    "df['Cast 2'] = cast_2"
   ]
  },
  {
   "cell_type": "code",
   "execution_count": 36,
   "metadata": {},
   "outputs": [],
   "source": [
    "df = df.drop('Cast' , axis = 1)"
   ]
  },
  {
   "cell_type": "code",
   "execution_count": 37,
   "metadata": {},
   "outputs": [],
   "source": [
    "df.to_csv('movie_list.csv', index=False)"
   ]
  },
  {
   "cell_type": "code",
   "execution_count": 38,
   "metadata": {},
   "outputs": [
    {
     "name": "stdout",
     "output_type": "stream",
     "text": [
      "Merged CSV saved successfully.\n"
     ]
    }
   ],
   "source": [
    "df1 = pd.read_csv(r'C:\\Users\\aditi\\OneDrive\\Desktop\\PROJECTS\\Movie-Recommendation-System\\movie_list1.csv')\n",
    "df2 = pd.read_csv(r'C:\\Users\\aditi\\OneDrive\\Desktop\\PROJECTS\\Movie-Recommendation-System\\movie_list.csv')\n",
    "\n",
    "# Concatenate DataFrames row-wise\n",
    "merged_df = pd.concat([df1, df2], ignore_index=True)\n",
    "\n",
    "# Write merged DataFrame to CSV\n",
    "merged_df.to_csv('merged_file.csv', index=False)\n",
    "\n",
    "print(\"Merged CSV saved successfully.\")"
   ]
  },
  {
   "cell_type": "code",
   "execution_count": 2,
   "metadata": {},
   "outputs": [],
   "source": [
    "df = pd.read_csv(r'C:\\Users\\aditi\\OneDrive\\Desktop\\PROJECTS\\Movie-Recommendation-System\\movie_list.csv')"
   ]
  },
  {
   "cell_type": "code",
   "execution_count": 3,
   "metadata": {},
   "outputs": [
    {
     "name": "stdout",
     "output_type": "stream",
     "text": [
      "<class 'pandas.core.frame.DataFrame'>\n",
      "RangeIndex: 250 entries, 0 to 249\n",
      "Data columns (total 12 columns):\n",
      " #   Column        Non-Null Count  Dtype  \n",
      "---  ------        --------------  -----  \n",
      " 0   Movie Name    250 non-null    object \n",
      " 1   Rating        250 non-null    float64\n",
      " 2   Year          250 non-null    int64  \n",
      " 3   Director      250 non-null    object \n",
      " 4   Writers       250 non-null    object \n",
      " 5   User Reviews  250 non-null    int64  \n",
      " 6   Genre         250 non-null    object \n",
      " 7   Summary       250 non-null    object \n",
      " 8   URL           250 non-null    object \n",
      " 9   Genre List    250 non-null    object \n",
      " 10  Cast 1        250 non-null    object \n",
      " 11  Cast 2        250 non-null    object \n",
      "dtypes: float64(1), int64(2), object(9)\n",
      "memory usage: 23.6+ KB\n"
     ]
    }
   ],
   "source": [
    "df.info()"
   ]
  },
  {
   "cell_type": "code",
   "execution_count": 4,
   "metadata": {},
   "outputs": [],
   "source": [
    "df = df.drop('Cast 1' , axis = 1)\n",
    "df = df.drop('Cast 2' , axis = 1)\n",
    "df = df.drop('Writers' , axis = 1)\n",
    "df = df.drop('User Reviews' , axis = 1)"
   ]
  },
  {
   "cell_type": "code",
   "execution_count": 5,
   "metadata": {},
   "outputs": [],
   "source": [
    "df = df.drop('URL' , axis = 1)"
   ]
  },
  {
   "cell_type": "code",
   "execution_count": 6,
   "metadata": {},
   "outputs": [
    {
     "name": "stdout",
     "output_type": "stream",
     "text": [
      "<class 'pandas.core.frame.DataFrame'>\n",
      "RangeIndex: 250 entries, 0 to 249\n",
      "Data columns (total 7 columns):\n",
      " #   Column      Non-Null Count  Dtype  \n",
      "---  ------      --------------  -----  \n",
      " 0   Movie Name  250 non-null    object \n",
      " 1   Rating      250 non-null    float64\n",
      " 2   Year        250 non-null    int64  \n",
      " 3   Director    250 non-null    object \n",
      " 4   Genre       250 non-null    object \n",
      " 5   Summary     250 non-null    object \n",
      " 6   Genre List  250 non-null    object \n",
      "dtypes: float64(1), int64(1), object(5)\n",
      "memory usage: 13.8+ KB\n"
     ]
    }
   ],
   "source": [
    "df.info()"
   ]
  },
  {
   "cell_type": "code",
   "execution_count": 7,
   "metadata": {},
   "outputs": [
    {
     "name": "stdout",
     "output_type": "stream",
     "text": [
      "Merged CSV saved successfully.\n"
     ]
    }
   ],
   "source": [
    "df1 = pd.read_csv(r'C:\\Users\\aditi\\OneDrive\\Desktop\\PROJECTS\\Movie-Recommendation-System\\movie_list1.csv')\n",
    "df2 = pd.read_csv(r'C:\\Users\\aditi\\OneDrive\\Desktop\\PROJECTS\\Movie-Recommendation-System\\movie_list.csv')\n",
    "\n",
    "# Concatenate DataFrames row-wise\n",
    "merged_df = pd.concat([df1, df2], ignore_index=True)\n",
    "\n",
    "# Write merged DataFrame to CSV\n",
    "merged_df.to_csv('merged_file.csv', index=False)\n",
    "\n",
    "print(\"Merged CSV saved successfully.\")"
   ]
  },
  {
   "cell_type": "code",
   "execution_count": 10,
   "metadata": {},
   "outputs": [
    {
     "name": "stdout",
     "output_type": "stream",
     "text": [
      "<class 'pandas.core.frame.DataFrame'>\n",
      "RangeIndex: 458 entries, 0 to 457\n",
      "Data columns (total 12 columns):\n",
      " #   Column        Non-Null Count  Dtype  \n",
      "---  ------        --------------  -----  \n",
      " 0   Movie Name    458 non-null    object \n",
      " 1   Rating        458 non-null    float64\n",
      " 2   Year          458 non-null    object \n",
      " 3   Director      458 non-null    object \n",
      " 4   Genre         458 non-null    object \n",
      " 5   Summary       454 non-null    object \n",
      " 6   Genre List    458 non-null    object \n",
      " 7   Writers       250 non-null    object \n",
      " 8   User Reviews  250 non-null    float64\n",
      " 9   URL           250 non-null    object \n",
      " 10  Cast 1        250 non-null    object \n",
      " 11  Cast 2        250 non-null    object \n",
      "dtypes: float64(2), object(10)\n",
      "memory usage: 43.1+ KB\n"
     ]
    }
   ],
   "source": [
    "merged_df.info()"
   ]
  },
  {
   "cell_type": "code",
   "execution_count": 11,
   "metadata": {},
   "outputs": [],
   "source": [
    "merged_df = merged_df.drop('Cast 1' , axis = 1)\n",
    "merged_df = merged_df.drop('Cast 2' , axis = 1)\n",
    "merged_df = merged_df.drop('Writers' , axis = 1)\n",
    "merged_df = merged_df.drop('User Reviews' , axis = 1)\n",
    "merged_df = merged_df.drop('URL' , axis = 1)"
   ]
  },
  {
   "cell_type": "code",
   "execution_count": 13,
   "metadata": {},
   "outputs": [
    {
     "name": "stdout",
     "output_type": "stream",
     "text": [
      "<class 'pandas.core.frame.DataFrame'>\n",
      "RangeIndex: 458 entries, 0 to 457\n",
      "Data columns (total 7 columns):\n",
      " #   Column      Non-Null Count  Dtype  \n",
      "---  ------      --------------  -----  \n",
      " 0   Movie Name  458 non-null    object \n",
      " 1   Rating      458 non-null    float64\n",
      " 2   Year        458 non-null    object \n",
      " 3   Director    458 non-null    object \n",
      " 4   Genre       458 non-null    object \n",
      " 5   Summary     454 non-null    object \n",
      " 6   Genre List  458 non-null    object \n",
      "dtypes: float64(1), object(6)\n",
      "memory usage: 25.2+ KB\n"
     ]
    }
   ],
   "source": [
    "merged_df.info()"
   ]
  },
  {
   "cell_type": "code",
   "execution_count": 14,
   "metadata": {},
   "outputs": [],
   "source": [
    "df_with_duplicates = pd.read_csv(r'C:\\Users\\aditi\\OneDrive\\Desktop\\PROJECTS\\Movie-Recommendation-System\\merged_file.csv')\n",
    "df_with_duplicates = df_with_duplicates.drop_duplicates()"
   ]
  },
  {
   "cell_type": "code",
   "execution_count": 15,
   "metadata": {},
   "outputs": [
    {
     "name": "stdout",
     "output_type": "stream",
     "text": [
      "<class 'pandas.core.frame.DataFrame'>\n",
      "RangeIndex: 458 entries, 0 to 457\n",
      "Data columns (total 12 columns):\n",
      " #   Column        Non-Null Count  Dtype  \n",
      "---  ------        --------------  -----  \n",
      " 0   Movie Name    458 non-null    object \n",
      " 1   Rating        458 non-null    float64\n",
      " 2   Year          458 non-null    object \n",
      " 3   Director      458 non-null    object \n",
      " 4   Genre         458 non-null    object \n",
      " 5   Summary       454 non-null    object \n",
      " 6   Genre List    458 non-null    object \n",
      " 7   Writers       250 non-null    object \n",
      " 8   User Reviews  250 non-null    float64\n",
      " 9   URL           250 non-null    object \n",
      " 10  Cast 1        250 non-null    object \n",
      " 11  Cast 2        250 non-null    object \n",
      "dtypes: float64(2), object(10)\n",
      "memory usage: 43.1+ KB\n"
     ]
    }
   ],
   "source": [
    "df_with_duplicates.info()"
   ]
  },
  {
   "cell_type": "code",
   "execution_count": 16,
   "metadata": {},
   "outputs": [],
   "source": [
    "df_with_duplicates = df_with_duplicates.drop('Cast 1' , axis = 1)\n",
    "df_with_duplicates = df_with_duplicates.drop('Cast 2' , axis = 1)\n",
    "df_with_duplicates = df_with_duplicates.drop('Writers' , axis = 1)\n",
    "df_with_duplicates = df_with_duplicates.drop('User Reviews' , axis = 1)\n",
    "df_with_duplicates = df_with_duplicates.drop('URL' , axis = 1)"
   ]
  },
  {
   "cell_type": "code",
   "execution_count": 17,
   "metadata": {},
   "outputs": [
    {
     "name": "stdout",
     "output_type": "stream",
     "text": [
      "<class 'pandas.core.frame.DataFrame'>\n",
      "RangeIndex: 458 entries, 0 to 457\n",
      "Data columns (total 7 columns):\n",
      " #   Column      Non-Null Count  Dtype  \n",
      "---  ------      --------------  -----  \n",
      " 0   Movie Name  458 non-null    object \n",
      " 1   Rating      458 non-null    float64\n",
      " 2   Year        458 non-null    object \n",
      " 3   Director    458 non-null    object \n",
      " 4   Genre       458 non-null    object \n",
      " 5   Summary     454 non-null    object \n",
      " 6   Genre List  458 non-null    object \n",
      "dtypes: float64(1), object(6)\n",
      "memory usage: 25.2+ KB\n"
     ]
    }
   ],
   "source": [
    "df_with_duplicates.info()"
   ]
  },
  {
   "cell_type": "code",
   "execution_count": 18,
   "metadata": {},
   "outputs": [],
   "source": [
    "df_with_duplicates.to_csv('final_dta.csv', index=False)"
   ]
  },
  {
   "cell_type": "code",
   "execution_count": null,
   "metadata": {},
   "outputs": [],
   "source": []
  }
 ],
 "metadata": {
  "kernelspec": {
   "display_name": "Python 3",
   "language": "python",
   "name": "python3"
  },
  "language_info": {
   "codemirror_mode": {
    "name": "ipython",
    "version": 3
   },
   "file_extension": ".py",
   "mimetype": "text/x-python",
   "name": "python",
   "nbconvert_exporter": "python",
   "pygments_lexer": "ipython3",
   "version": "3.10.11"
  }
 },
 "nbformat": 4,
 "nbformat_minor": 2
}
