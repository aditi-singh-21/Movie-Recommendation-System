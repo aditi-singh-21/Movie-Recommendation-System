{
 "cells": [
  {
   "cell_type": "code",
   "execution_count": 5,
   "metadata": {},
   "outputs": [],
   "source": [
    "import pandas as pd\n",
    "import numpy as np\n",
    "import os\n",
    "import pickle\n",
    "from sklearn.feature_extraction.text import TfidfVectorizer\n",
    "from sklearn.metrics.pairwise import linear_kernel\n",
    "import re\n",
    "from bs4 import BeautifulSoup\n",
    "from urllib.request import urlopen\n",
    "import requests\n",
    "from nltk.corpus import stopwords\n",
    "from sklearn.feature_extraction.text import TfidfVectorizer\n",
    "import nltk"
   ]
  },
  {
   "cell_type": "code",
   "execution_count": 6,
   "metadata": {},
   "outputs": [
    {
     "name": "stderr",
     "output_type": "stream",
     "text": [
      "[nltk_data] Downloading package stopwords to\n",
      "[nltk_data]     C:\\Users\\aditi\\AppData\\Roaming\\nltk_data...\n",
      "[nltk_data]   Package stopwords is already up-to-date!\n"
     ]
    }
   ],
   "source": [
    "nltk.download(\"stopwords\")\n",
    "stope_words_set = set(stopwords.words(\"english\"))\n",
    "from nltk.tokenize import word_tokenize\n",
    "\n",
    "def remove_stop_words(summary):\n",
    "    flag = 0\n",
    "    summary_word_token = word_tokenize(summary)\n",
    "    updated_summary = \"\"\n",
    "    for w in summary_word_token:\n",
    "        if w not in stope_words_set:\n",
    "            if flag == 1:\n",
    "                updated_summary = updated_summary + \" \" + w\n",
    "            else:\n",
    "                updated_summary = w\n",
    "                flag = flag +1\n",
    "    #print(updated_summary)\n",
    "    return updated_summary"
   ]
  },
  {
   "cell_type": "code",
   "execution_count": 7,
   "metadata": {},
   "outputs": [],
   "source": [
    "def input_encoding(url):\n",
    "    headers = {\n",
    "    'User-Agent': 'Mozilla/5.0 (Windows NT 10.0; Win64; x64) AppleWebKit/537.36 (KHTML, like Gecko) Chrome/58.0.3029.110 Safari/537.3',\n",
    "    'Accept-Language': 'en-US,en;q=0.9',\n",
    "    'Accept-Encoding': 'gzip, deflate, br',\n",
    "    'Connection': 'keep-alive',\n",
    "    'Upgrade-Insecure-Requests': '1',\n",
    "    'Referer': 'https://www.google.com/',\n",
    "}\n",
    "\n",
    "    response = requests.get(url, headers=headers , timeout=15)\n",
    "    response.raise_for_status()\n",
    "\n",
    "    sample_soup = BeautifulSoup(response.text, 'html.parser')\n",
    "    \n",
    "    encoded = []\n",
    "    \n",
    "    encoded.append(sample_soup.find('span',{'class':'sc-eb51e184-1 cxhhrI'}).text)\n",
    "    \n",
    "    year_duration = sample_soup.find('ul',{'class' : 'ipc-inline-list ipc-inline-list--show-dividers sc-d8941411-2 cdJsTz baseAlt'})\n",
    "    year_duration = year_duration.find_all('li',{'class':'ipc-inline-list__item'})\n",
    "    for item in year_duration:\n",
    "        if flag == 0:\n",
    "            sample_year=item.text\n",
    "            encoded.append(sample_year)\n",
    "            flag = flag+1\n",
    "            \n",
    "    sample_genre=[]\n",
    "    sample_genre_tag = sample_soup.find('div',{'class':'ipc-chip-list__scroller'})\n",
    "    sample_genre_tag = sample_genre_tag.find_all('a',{'class':'ipc-chip ipc-chip--on-baseAlt'})\n",
    "    for item in sample_genre_tag:\n",
    "        g = item.find('span',{'class':'ipc-chip__text'}).text\n",
    "        sample_genre.append(g)\n",
    "    encoded.append(sample_genre[0])\n",
    "    \n",
    "    \n",
    "    sample_intro = sample_soup.find('p' , {'class' : 'sc-2d37a7c7-3 dmZChI'})\n",
    "    sample_intro = sample_intro.find('span' , {'class' : 'sc-2d37a7c7-0 caYjFF'}).text\n",
    "    encoded.append(remove_stop_words(sample_intro))\n",
    "    \n",
    "    \n",
    "    input_string = \"\"\n",
    "    flag=0\n",
    "    for item in encoded:\n",
    "        if flag == 0:\n",
    "            input_string = item\n",
    "            flag = flag +1\n",
    "        else:\n",
    "            input_string = input_string + \" \" + item\n",
    "            \n",
    "def vectorization(input_string):\n",
    "    input_series = pd.Series(input_string)\n",
    "    vectorize = TfidfVectorizer(stop_words=\"english\")\n",
    "    vectorize_matrix = vectorize.fit_transform(df['Important Features'])\n",
    "    return vectorize_matrix\n",
    "            \n",
    "        \n",
    "    "
   ]
  },
  {
   "cell_type": "code",
   "execution_count": 8,
   "metadata": {},
   "outputs": [],
   "source": [
    "with open(r'C:\\Users\\aditi\\OneDrive\\Desktop\\PROJECTS\\Movie-Recommendation-System\\encoded_movies_info.txt', 'rb') as file:\n",
    "    encoded_vector = pickle.load(file,encoding='utf-8')\n",
    "with open(r'C:\\Users\\aditi\\OneDrive\\Desktop\\PROJECTS\\Movie-Recommendation-System\\movies_name.txt', 'rb') as file:\n",
    "    movies_name = pickle.load(file , encoding='utf-8') "
   ]
  },
  {
   "cell_type": "code",
   "execution_count": null,
   "metadata": {},
   "outputs": [],
   "source": [
    "def consine_sim(vector_matrix):\n",
    "    similar_list =[]"
   ]
  }
 ],
 "metadata": {
  "kernelspec": {
   "display_name": "Python 3",
   "language": "python",
   "name": "python3"
  },
  "language_info": {
   "codemirror_mode": {
    "name": "ipython",
    "version": 3
   },
   "file_extension": ".py",
   "mimetype": "text/x-python",
   "name": "python",
   "nbconvert_exporter": "python",
   "pygments_lexer": "ipython3",
   "version": "3.10.11"
  }
 },
 "nbformat": 4,
 "nbformat_minor": 2
}
