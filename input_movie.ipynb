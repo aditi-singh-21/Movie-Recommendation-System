{
 "cells": [
  {
   "cell_type": "code",
   "execution_count": 59,
   "metadata": {},
   "outputs": [],
   "source": [
    "import pandas as pd\n",
    "import numpy as np\n",
    "import os\n",
    "import pickle\n",
    "from sklearn.feature_extraction.text import TfidfVectorizer\n",
    "from sklearn.metrics.pairwise import linear_kernel\n",
    "import re\n",
    "from bs4 import BeautifulSoup\n",
    "from urllib.request import urlopen\n",
    "import requests\n",
    "from nltk.corpus import stopwords\n",
    "from sklearn.feature_extraction.text import TfidfVectorizer\n",
    "import nltk\n",
    "from sklearn.metrics.pairwise import cosine_similarity"
   ]
  },
  {
   "cell_type": "code",
   "execution_count": 60,
   "metadata": {},
   "outputs": [
    {
     "name": "stderr",
     "output_type": "stream",
     "text": [
      "[nltk_data] Downloading package stopwords to\n",
      "[nltk_data]     C:\\Users\\aditi\\AppData\\Roaming\\nltk_data...\n",
      "[nltk_data]   Package stopwords is already up-to-date!\n"
     ]
    }
   ],
   "source": [
    "nltk.download(\"stopwords\")\n",
    "stope_words_set = set(stopwords.words(\"english\"))\n",
    "from nltk.tokenize import word_tokenize\n",
    "\n",
    "def remove_stop_words(summary):\n",
    "    flag = 0\n",
    "    summary_word_token = word_tokenize(summary)\n",
    "    updated_summary = \"\"\n",
    "    for w in summary_word_token:\n",
    "        if w not in stope_words_set:\n",
    "            if flag == 1:\n",
    "                updated_summary = updated_summary + \" \" + w\n",
    "            else:\n",
    "                updated_summary = w\n",
    "                flag = flag +1\n",
    "    #print(updated_summary)\n",
    "    return updated_summary"
   ]
  },
  {
   "cell_type": "code",
   "execution_count": 61,
   "metadata": {},
   "outputs": [],
   "source": [
    "def input_encoding(url):\n",
    "    headers = {\n",
    "    'User-Agent': 'Mozilla/5.0 (Windows NT 10.0; Win64; x64) AppleWebKit/537.36 (KHTML, like Gecko) Chrome/58.0.3029.110 Safari/537.3',\n",
    "    'Accept-Language': 'en-US,en;q=0.9',\n",
    "    'Accept-Encoding': 'gzip, deflate, br',\n",
    "    'Connection': 'keep-alive',\n",
    "    'Upgrade-Insecure-Requests': '1',\n",
    "    'Referer': 'https://www.google.com/',\n",
    "}\n",
    "\n",
    "    response = requests.get(url, headers=headers , timeout=15)\n",
    "    response.raise_for_status()\n",
    "\n",
    "    sample_soup = BeautifulSoup(response.text, 'html.parser')\n",
    "    \n",
    "    encoded = []\n",
    "    \n",
    "    #Name\n",
    "    sample_name = sample_soup.find('h1' ,{'class' : 'sc-d8941411-0 dxeMrU'})\n",
    "    sample_name = sample_name.find('span' ,{'class' : 'hero__primary-text'}).text\n",
    "    encoded.append(sample_name)\n",
    "    print(sample_name)\n",
    "    \n",
    "    #Rating\n",
    "    encoded.append(sample_soup.find('span',{'class':'sc-eb51e184-1 cxhhrI'}).text)\n",
    "    print(sample_soup.find('span',{'class':'sc-eb51e184-1 cxhhrI'}).text)\n",
    "    \n",
    "    #Year\n",
    "    year_duration = sample_soup.find('ul',{'class' : 'ipc-inline-list ipc-inline-list--show-dividers sc-d8941411-2 cdJsTz baseAlt'})\n",
    "    year_duration = year_duration.find_all('li',{'class':'ipc-inline-list__item'})\n",
    "    flag=0\n",
    "    for item in year_duration:\n",
    "        if flag == 0:\n",
    "            sample_year=item.text\n",
    "            encoded.append(sample_year)\n",
    "            print(sample_year)\n",
    "            flag = flag+1\n",
    "            \n",
    "    #Genre\n",
    "    sample_genre=[]\n",
    "    sample_genre_tag = sample_soup.find('div',{'class':'ipc-chip-list__scroller'})\n",
    "    sample_genre_tag = sample_genre_tag.find_all('a',{'class':'ipc-chip ipc-chip--on-baseAlt'})\n",
    "    for item in sample_genre_tag:\n",
    "        g = item.find('span',{'class':'ipc-chip__text'}).text\n",
    "        sample_genre.append(g)\n",
    "    encoded.append(sample_genre[0])\n",
    "    print(sample_genre[0])\n",
    "    \n",
    "    #Summary\n",
    "    sample_intro = sample_soup.find('p' , {'class' : 'sc-2d37a7c7-3 dmZChI'})\n",
    "    sample_intro = sample_intro.find('span' , {'class' : 'sc-2d37a7c7-0 caYjFF'}).text\n",
    "    encoded.append(remove_stop_words(sample_intro))\n",
    "    print(remove_stop_words(sample_intro))\n",
    "    \n",
    "    input_string = \"\"\n",
    "    flag=0\n",
    "    for item in encoded:\n",
    "        if flag == 0:\n",
    "            input_string = item\n",
    "            flag = flag +1\n",
    "        else:\n",
    "            input_string = input_string + \" \" + item\n",
    "            \n",
    "    return input_string\n",
    "            \n",
    "def vectorization(corpus):\n",
    "    vectorize = TfidfVectorizer(stop_words=\"english\")\n",
    "    vectorize_matrix = vectorize.fit_transform(corpus)\n",
    "    return vectorize_matrix, vectorize\n",
    "            \n",
    "            \n",
    "def find_similar_movies(vectorize_matrix, input_vector, movies_name, top_n=5):\n",
    "    cosine_sim = cosine_similarity(input_vector, vectorize_matrix)\n",
    "    similar_indices = cosine_sim.argsort().flatten()[-top_n:]\n",
    "    similar_movies = [movies_name[idx] for idx in similar_indices]\n",
    "    return similar_movies\n",
    "        \n",
    "    "
   ]
  },
  {
   "cell_type": "code",
   "execution_count": 62,
   "metadata": {},
   "outputs": [],
   "source": [
    "with open(r'C:\\Users\\aditi\\OneDrive\\Desktop\\PROJECTS\\Movie-Recommendation-System\\encoded_movies_info.txt', 'rb') as file:\n",
    "    encoded_vector = pickle.load(file,encoding='utf-8')\n",
    "with open(r'C:\\Users\\aditi\\OneDrive\\Desktop\\PROJECTS\\Movie-Recommendation-System\\movies_name.txt', 'rb') as file:\n",
    "    movies_name = pickle.load(file , encoding='utf-8') "
   ]
  },
  {
   "cell_type": "code",
   "execution_count": 63,
   "metadata": {},
   "outputs": [
    {
     "data": {
      "text/plain": [
       "'url = \"https://www.imdb.com/title/tt8672856/\"\\n\\nsample_movie = input_encoding(url)\\ncorpus = encoded_vector + [sample_movie]\\nvectorize_matrix, vectorize = vectorization(corpus)\\ninput_vector = vectorize_matrix[-1]\\nvectorize_matrix = vectorize_matrix[:-1]\\nprint(find_similar_movies(vectorize_matrix,input_vector,movies_name))'"
      ]
     },
     "execution_count": 63,
     "metadata": {},
     "output_type": "execute_result"
    }
   ],
   "source": [
    "'''url = \"https://www.imdb.com/title/tt8672856/\"\n",
    "\n",
    "sample_movie = input_encoding(url)\n",
    "corpus = encoded_vector + [sample_movie]\n",
    "vectorize_matrix, vectorize = vectorization(corpus)\n",
    "input_vector = vectorize_matrix[-1]\n",
    "vectorize_matrix = vectorize_matrix[:-1]\n",
    "print(find_similar_movies(vectorize_matrix,input_vector,movies_name))'''"
   ]
  },
  {
   "cell_type": "code",
   "execution_count": 64,
   "metadata": {},
   "outputs": [],
   "source": [
    "df = pd.read_csv(\"movie_list.csv\")"
   ]
  },
  {
   "cell_type": "code",
   "execution_count": 65,
   "metadata": {},
   "outputs": [
    {
     "name": "stdout",
     "output_type": "stream",
     "text": [
      "<class 'pandas.core.frame.DataFrame'>\n",
      "RangeIndex: 248 entries, 0 to 247\n",
      "Data columns (total 11 columns):\n",
      " #   Column        Non-Null Count  Dtype  \n",
      "---  ------        --------------  -----  \n",
      " 0   Movie Name    248 non-null    object \n",
      " 1   Rating        248 non-null    float64\n",
      " 2   Year          248 non-null    int64  \n",
      " 3   Director      248 non-null    object \n",
      " 4   Writers       248 non-null    object \n",
      " 5   User Reviews  248 non-null    float64\n",
      " 6   Genre         248 non-null    object \n",
      " 7   Summary       248 non-null    object \n",
      " 8   URL           248 non-null    object \n",
      " 9   Cast 1        248 non-null    object \n",
      " 10  Cast 2        248 non-null    object \n",
      "dtypes: float64(2), int64(1), object(8)\n",
      "memory usage: 21.4+ KB\n"
     ]
    }
   ],
   "source": [
    "df.info()"
   ]
  },
  {
   "cell_type": "code",
   "execution_count": 66,
   "metadata": {},
   "outputs": [],
   "source": [
    "def get_imp_features(df):\n",
    "    important_features =[]\n",
    "    for i in df.index:\n",
    "        important_features.append(df['Movie Name'][i] +' '+ str(df['Rating'][i]) + ' ' + str(df['Year'][i]) + ' ' + df['Genre'][i]+ ' ' + df['Summary'][i])\n",
    "    return important_features\n",
    "\n",
    "df['Important Features'] = get_imp_features(df)"
   ]
  },
  {
   "cell_type": "code",
   "execution_count": 67,
   "metadata": {},
   "outputs": [
    {
     "name": "stdout",
     "output_type": "stream",
     "text": [
      "Mary Kom\n",
      "6.8\n",
      "2014\n",
      "Action\n",
      "A chronicle life Indian boxer Mary Kom , went several hardships audaciously accomplishing ultimate dream .\n",
      "['Charulata', 'Bombay', 'Veer-Zaara', 'Premam', 'Bommarillu']\n"
     ]
    }
   ],
   "source": [
    "url = \"https://www.imdb.com/title/tt3001638/\"\n",
    "\n",
    "sample_movie = input_encoding(url)\n",
    "corpus = df['Important Features'] + [sample_movie]\n",
    "vectorize_matrix, vectorize = vectorization(corpus)\n",
    "input_vector = vectorize_matrix[-1]\n",
    "vectorize_matrix = vectorize_matrix[:-1]\n",
    "print(find_similar_movies(vectorize_matrix,input_vector,movies_name))"
   ]
  },
  {
   "cell_type": "code",
   "execution_count": null,
   "metadata": {},
   "outputs": [],
   "source": []
  }
 ],
 "metadata": {
  "kernelspec": {
   "display_name": "Python 3",
   "language": "python",
   "name": "python3"
  },
  "language_info": {
   "codemirror_mode": {
    "name": "ipython",
    "version": 3
   },
   "file_extension": ".py",
   "mimetype": "text/x-python",
   "name": "python",
   "nbconvert_exporter": "python",
   "pygments_lexer": "ipython3",
   "version": "3.10.11"
  }
 },
 "nbformat": 4,
 "nbformat_minor": 2
}
