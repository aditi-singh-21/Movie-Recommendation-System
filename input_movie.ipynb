{
 "cells": [
  {
   "cell_type": "code",
   "execution_count": 2,
   "metadata": {},
   "outputs": [],
   "source": [
    "import pandas as pd\n",
    "import numpy as np\n",
    "import os\n",
    "import pickle\n",
    "from sklearn.feature_extraction.text import TfidfVectorizer\n",
    "from sklearn.metrics.pairwise import linear_kernel\n",
    "import re\n",
    "from bs4 import BeautifulSoup\n",
    "from urllib.request import urlopen\n",
    "import requests\n",
    "from nltk.corpus import stopwords\n",
    "from sklearn.feature_extraction.text import TfidfVectorizer\n",
    "import nltk\n",
    "from sklearn.metrics.pairwise import cosine_similarity"
   ]
  },
  {
   "cell_type": "code",
   "execution_count": 3,
   "metadata": {},
   "outputs": [
    {
     "name": "stderr",
     "output_type": "stream",
     "text": [
      "[nltk_data] Downloading package stopwords to\n",
      "[nltk_data]     C:\\Users\\aditi\\AppData\\Roaming\\nltk_data...\n",
      "[nltk_data]   Package stopwords is already up-to-date!\n"
     ]
    }
   ],
   "source": [
    "nltk.download(\"stopwords\")\n",
    "stope_words_set = set(stopwords.words(\"english\"))\n",
    "from nltk.tokenize import word_tokenize\n",
    "\n",
    "def remove_stop_words(summary):\n",
    "    flag = 0\n",
    "    summary_word_token = word_tokenize(summary)\n",
    "    updated_summary = \"\"\n",
    "    for w in summary_word_token:\n",
    "        if w not in stope_words_set:\n",
    "            if flag == 1:\n",
    "                updated_summary = updated_summary + \" \" + w\n",
    "            else:\n",
    "                updated_summary = w\n",
    "                flag = flag +1\n",
    "    #print(updated_summary)\n",
    "    return updated_summary"
   ]
  },
  {
   "cell_type": "code",
   "execution_count": 12,
   "metadata": {},
   "outputs": [],
   "source": [
    "def input_encoding(url):\n",
    "    headers = {\n",
    "    'User-Agent': 'Mozilla/5.0 (Windows NT 10.0; Win64; x64) AppleWebKit/537.36 (KHTML, like Gecko) Chrome/58.0.3029.110 Safari/537.3',\n",
    "    'Accept-Language': 'en-US,en;q=0.9',\n",
    "    'Accept-Encoding': 'gzip, deflate, br',\n",
    "    'Connection': 'keep-alive',\n",
    "    'Upgrade-Insecure-Requests': '1',\n",
    "    'Referer': 'https://www.google.com/',\n",
    "}\n",
    "\n",
    "    response = requests.get(url, headers=headers , timeout=15)\n",
    "    response.raise_for_status()\n",
    "\n",
    "    sample_soup = BeautifulSoup(response.text, 'html.parser')\n",
    "    \n",
    "    encoded = []\n",
    "    \n",
    "    encoded.append(sample_soup.find('span',{'class':'sc-eb51e184-1 cxhhrI'}).text)\n",
    "    \n",
    "    year_duration = sample_soup.find('ul',{'class' : 'ipc-inline-list ipc-inline-list--show-dividers sc-d8941411-2 cdJsTz baseAlt'})\n",
    "    year_duration = year_duration.find_all('li',{'class':'ipc-inline-list__item'})\n",
    "    flag=0\n",
    "    for item in year_duration:\n",
    "        if flag == 0:\n",
    "            sample_year=item.text\n",
    "            encoded.append(sample_year)\n",
    "            flag = flag+1\n",
    "            \n",
    "    sample_genre=[]\n",
    "    sample_genre_tag = sample_soup.find('div',{'class':'ipc-chip-list__scroller'})\n",
    "    sample_genre_tag = sample_genre_tag.find_all('a',{'class':'ipc-chip ipc-chip--on-baseAlt'})\n",
    "    for item in sample_genre_tag:\n",
    "        g = item.find('span',{'class':'ipc-chip__text'}).text\n",
    "        sample_genre.append(g)\n",
    "    encoded.append(sample_genre[0])\n",
    "    \n",
    "    \n",
    "    sample_intro = sample_soup.find('p' , {'class' : 'sc-2d37a7c7-3 dmZChI'})\n",
    "    sample_intro = sample_intro.find('span' , {'class' : 'sc-2d37a7c7-0 caYjFF'}).text\n",
    "    encoded.append(remove_stop_words(sample_intro))\n",
    "    \n",
    "    \n",
    "    input_string = \"\"\n",
    "    flag=0\n",
    "    for item in encoded:\n",
    "        if flag == 0:\n",
    "            input_string = item\n",
    "            flag = flag +1\n",
    "        else:\n",
    "            input_string = input_string + \" \" + item\n",
    "            \n",
    "    return input_string\n",
    "            \n",
    "def vectorization(input_string):\n",
    "    input_series = pd.Series(input_string)\n",
    "    vectorize = TfidfVectorizer(stop_words=\"english\")\n",
    "    vectorize_matrix = vectorize.fit_transform(input_string)\n",
    "    return vectorize_matrix\n",
    "            \n",
    "            \n",
    "def find_similar_movies(vectorize_matrix, input_vector, movies_name, top_n=5):\n",
    "    cosine_sim = cosine_similarity(input_vector, vectorize_matrix)\n",
    "    similar_indices = cosine_sim.argsort().flatten()[-top_n:]\n",
    "    similar_movies = [movies_name[idx] for idx in similar_indices]\n",
    "    return similar_movies\n",
    "        \n",
    "    "
   ]
  },
  {
   "cell_type": "code",
   "execution_count": 13,
   "metadata": {},
   "outputs": [],
   "source": [
    "with open(r'C:\\Users\\aditi\\OneDrive\\Desktop\\PROJECTS\\Movie-Recommendation-System\\encoded_movies_info.txt', 'rb') as file:\n",
    "    encoded_vector = pickle.load(file,encoding='utf-8')\n",
    "with open(r'C:\\Users\\aditi\\OneDrive\\Desktop\\PROJECTS\\Movie-Recommendation-System\\movies_name.txt', 'rb') as file:\n",
    "    movies_name = pickle.load(file , encoding='utf-8') "
   ]
  },
  {
   "cell_type": "code",
   "execution_count": 14,
   "metadata": {},
   "outputs": [
    {
     "ename": "ValueError",
     "evalue": "Iterable over raw text documents expected, string object received.",
     "output_type": "error",
     "traceback": [
      "\u001b[1;31m---------------------------------------------------------------------------\u001b[0m",
      "\u001b[1;31mValueError\u001b[0m                                Traceback (most recent call last)",
      "Cell \u001b[1;32mIn[14], line 4\u001b[0m\n\u001b[0;32m      1\u001b[0m url \u001b[38;5;241m=\u001b[39m \u001b[38;5;124m\"\u001b[39m\u001b[38;5;124mhttps://www.imdb.com/title/tt8672856/\u001b[39m\u001b[38;5;124m\"\u001b[39m\n\u001b[0;32m      3\u001b[0m sample_movie \u001b[38;5;241m=\u001b[39m input_encoding(url)\n\u001b[1;32m----> 4\u001b[0m sample_vector \u001b[38;5;241m=\u001b[39m \u001b[43mvectorization\u001b[49m\u001b[43m(\u001b[49m\u001b[43msample_movie\u001b[49m\u001b[43m)\u001b[49m\n\u001b[0;32m      5\u001b[0m \u001b[38;5;28mprint\u001b[39m(find_similar_movies(sample_vector,encoded_vector))\n",
      "Cell \u001b[1;32mIn[12], line 57\u001b[0m, in \u001b[0;36mvectorization\u001b[1;34m(input_string)\u001b[0m\n\u001b[0;32m     55\u001b[0m input_series \u001b[38;5;241m=\u001b[39m pd\u001b[38;5;241m.\u001b[39mSeries(input_string)\n\u001b[0;32m     56\u001b[0m vectorize \u001b[38;5;241m=\u001b[39m TfidfVectorizer(stop_words\u001b[38;5;241m=\u001b[39m\u001b[38;5;124m\"\u001b[39m\u001b[38;5;124menglish\u001b[39m\u001b[38;5;124m\"\u001b[39m)\n\u001b[1;32m---> 57\u001b[0m vectorize_matrix \u001b[38;5;241m=\u001b[39m \u001b[43mvectorize\u001b[49m\u001b[38;5;241;43m.\u001b[39;49m\u001b[43mfit_transform\u001b[49m\u001b[43m(\u001b[49m\u001b[43minput_string\u001b[49m\u001b[43m)\u001b[49m\n\u001b[0;32m     58\u001b[0m \u001b[38;5;28;01mreturn\u001b[39;00m vectorize_matrix\n",
      "File \u001b[1;32m~\\AppData\\Local\\Packages\\PythonSoftwareFoundation.Python.3.10_qbz5n2kfra8p0\\LocalCache\\local-packages\\Python310\\site-packages\\sklearn\\feature_extraction\\text.py:2133\u001b[0m, in \u001b[0;36mTfidfVectorizer.fit_transform\u001b[1;34m(self, raw_documents, y)\u001b[0m\n\u001b[0;32m   2126\u001b[0m \u001b[38;5;28mself\u001b[39m\u001b[38;5;241m.\u001b[39m_check_params()\n\u001b[0;32m   2127\u001b[0m \u001b[38;5;28mself\u001b[39m\u001b[38;5;241m.\u001b[39m_tfidf \u001b[38;5;241m=\u001b[39m TfidfTransformer(\n\u001b[0;32m   2128\u001b[0m     norm\u001b[38;5;241m=\u001b[39m\u001b[38;5;28mself\u001b[39m\u001b[38;5;241m.\u001b[39mnorm,\n\u001b[0;32m   2129\u001b[0m     use_idf\u001b[38;5;241m=\u001b[39m\u001b[38;5;28mself\u001b[39m\u001b[38;5;241m.\u001b[39muse_idf,\n\u001b[0;32m   2130\u001b[0m     smooth_idf\u001b[38;5;241m=\u001b[39m\u001b[38;5;28mself\u001b[39m\u001b[38;5;241m.\u001b[39msmooth_idf,\n\u001b[0;32m   2131\u001b[0m     sublinear_tf\u001b[38;5;241m=\u001b[39m\u001b[38;5;28mself\u001b[39m\u001b[38;5;241m.\u001b[39msublinear_tf,\n\u001b[0;32m   2132\u001b[0m )\n\u001b[1;32m-> 2133\u001b[0m X \u001b[38;5;241m=\u001b[39m \u001b[38;5;28;43msuper\u001b[39;49m\u001b[43m(\u001b[49m\u001b[43m)\u001b[49m\u001b[38;5;241;43m.\u001b[39;49m\u001b[43mfit_transform\u001b[49m\u001b[43m(\u001b[49m\u001b[43mraw_documents\u001b[49m\u001b[43m)\u001b[49m\n\u001b[0;32m   2134\u001b[0m \u001b[38;5;28mself\u001b[39m\u001b[38;5;241m.\u001b[39m_tfidf\u001b[38;5;241m.\u001b[39mfit(X)\n\u001b[0;32m   2135\u001b[0m \u001b[38;5;66;03m# X is already a transformed view of raw_documents so\u001b[39;00m\n\u001b[0;32m   2136\u001b[0m \u001b[38;5;66;03m# we set copy to False\u001b[39;00m\n",
      "File \u001b[1;32m~\\AppData\\Local\\Packages\\PythonSoftwareFoundation.Python.3.10_qbz5n2kfra8p0\\LocalCache\\local-packages\\Python310\\site-packages\\sklearn\\feature_extraction\\text.py:1365\u001b[0m, in \u001b[0;36mCountVectorizer.fit_transform\u001b[1;34m(self, raw_documents, y)\u001b[0m\n\u001b[0;32m   1361\u001b[0m \u001b[38;5;66;03m# We intentionally don't call the transform method to make\u001b[39;00m\n\u001b[0;32m   1362\u001b[0m \u001b[38;5;66;03m# fit_transform overridable without unwanted side effects in\u001b[39;00m\n\u001b[0;32m   1363\u001b[0m \u001b[38;5;66;03m# TfidfVectorizer.\u001b[39;00m\n\u001b[0;32m   1364\u001b[0m \u001b[38;5;28;01mif\u001b[39;00m \u001b[38;5;28misinstance\u001b[39m(raw_documents, \u001b[38;5;28mstr\u001b[39m):\n\u001b[1;32m-> 1365\u001b[0m     \u001b[38;5;28;01mraise\u001b[39;00m \u001b[38;5;167;01mValueError\u001b[39;00m(\n\u001b[0;32m   1366\u001b[0m         \u001b[38;5;124m\"\u001b[39m\u001b[38;5;124mIterable over raw text documents expected, string object received.\u001b[39m\u001b[38;5;124m\"\u001b[39m\n\u001b[0;32m   1367\u001b[0m     )\n\u001b[0;32m   1369\u001b[0m \u001b[38;5;28mself\u001b[39m\u001b[38;5;241m.\u001b[39m_validate_params()\n\u001b[0;32m   1370\u001b[0m \u001b[38;5;28mself\u001b[39m\u001b[38;5;241m.\u001b[39m_validate_ngram_range()\n",
      "\u001b[1;31mValueError\u001b[0m: Iterable over raw text documents expected, string object received."
     ]
    }
   ],
   "source": [
    "url = \"https://www.imdb.com/title/tt8672856/\"\n",
    "\n",
    "sample_movie = input_encoding(url)\n",
    "sample_vector = vectorization(sample_movie)\n",
    "print(find_similar_movies(sample_vector,encoded_vector))"
   ]
  },
  {
   "cell_type": "code",
   "execution_count": null,
   "metadata": {},
   "outputs": [],
   "source": []
  }
 ],
 "metadata": {
  "kernelspec": {
   "display_name": "Python 3",
   "language": "python",
   "name": "python3"
  },
  "language_info": {
   "codemirror_mode": {
    "name": "ipython",
    "version": 3
   },
   "file_extension": ".py",
   "mimetype": "text/x-python",
   "name": "python",
   "nbconvert_exporter": "python",
   "pygments_lexer": "ipython3",
   "version": "3.10.11"
  }
 },
 "nbformat": 4,
 "nbformat_minor": 2
}
