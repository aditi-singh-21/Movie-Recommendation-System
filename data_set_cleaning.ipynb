{
 "cells": [
  {
   "cell_type": "code",
   "execution_count": 136,
   "metadata": {},
   "outputs": [],
   "source": [
    "import pandas as pd\n",
    "import numpy as np"
   ]
  },
  {
   "cell_type": "code",
   "execution_count": 137,
   "metadata": {},
   "outputs": [],
   "source": [
    "df = pd.read_csv('movie_list.csv')"
   ]
  },
  {
   "cell_type": "code",
   "execution_count": 138,
   "metadata": {},
   "outputs": [
    {
     "data": {
      "text/html": [
       "<div>\n",
       "<style scoped>\n",
       "    .dataframe tbody tr th:only-of-type {\n",
       "        vertical-align: middle;\n",
       "    }\n",
       "\n",
       "    .dataframe tbody tr th {\n",
       "        vertical-align: top;\n",
       "    }\n",
       "\n",
       "    .dataframe thead th {\n",
       "        text-align: right;\n",
       "    }\n",
       "</style>\n",
       "<table border=\"1\" class=\"dataframe\">\n",
       "  <thead>\n",
       "    <tr style=\"text-align: right;\">\n",
       "      <th></th>\n",
       "      <th>Movie Name</th>\n",
       "      <th>Rating</th>\n",
       "      <th>Year</th>\n",
       "      <th>Director</th>\n",
       "      <th>Writers</th>\n",
       "      <th>User Reviews</th>\n",
       "      <th>Genre</th>\n",
       "      <th>Summary</th>\n",
       "      <th>URL</th>\n",
       "      <th>Cast 1</th>\n",
       "      <th>Cast 2</th>\n",
       "    </tr>\n",
       "  </thead>\n",
       "  <tbody>\n",
       "    <tr>\n",
       "      <th>0</th>\n",
       "      <td>Ramayana: The Legend of Prince Rama</td>\n",
       "      <td>9.2</td>\n",
       "      <td>1993</td>\n",
       "      <td>Ram Mohan</td>\n",
       "      <td>Rani Burra</td>\n",
       "      <td>53</td>\n",
       "      <td>Animation</td>\n",
       "      <td>An anime adaptation of the Hindu epic the Rama...</td>\n",
       "      <td>https://www.imdb.com/title/tt0259534/?ref_=fea...</td>\n",
       "      <td>Arun Govil</td>\n",
       "      <td>Nikhil Kapoor</td>\n",
       "    </tr>\n",
       "    <tr>\n",
       "      <th>1</th>\n",
       "      <td>12th Fail</td>\n",
       "      <td>8.9</td>\n",
       "      <td>2023</td>\n",
       "      <td>Vidhu Vinod Chopra</td>\n",
       "      <td>Vidhu Vinod Chopra</td>\n",
       "      <td>973</td>\n",
       "      <td>Biography</td>\n",
       "      <td>The real-life story of IPS Officer Manoj Kumar...</td>\n",
       "      <td>https://www.imdb.com/title/tt23849204/?ref_=fe...</td>\n",
       "      <td>Vikrant Massey</td>\n",
       "      <td>Medha Shankr</td>\n",
       "    </tr>\n",
       "    <tr>\n",
       "      <th>2</th>\n",
       "      <td>Nayakan</td>\n",
       "      <td>8.7</td>\n",
       "      <td>1987</td>\n",
       "      <td>Mani Ratnam</td>\n",
       "      <td>Balakumaran</td>\n",
       "      <td>237</td>\n",
       "      <td>Crime</td>\n",
       "      <td>A common man's struggles against a corrupt pol...</td>\n",
       "      <td>https://www.imdb.com/title/tt0093603/?ref_=fea...</td>\n",
       "      <td>Kamal Haasan</td>\n",
       "      <td>Saranya Ponvannan</td>\n",
       "    </tr>\n",
       "    <tr>\n",
       "      <th>3</th>\n",
       "      <td>Gol Maal</td>\n",
       "      <td>8.5</td>\n",
       "      <td>1979</td>\n",
       "      <td>Hrishikesh Mukherjee</td>\n",
       "      <td>Sailesh Dey</td>\n",
       "      <td>48</td>\n",
       "      <td>Comedy</td>\n",
       "      <td>A man's simple lie to secure his job escalates...</td>\n",
       "      <td>https://www.imdb.com/title/tt0079221/?ref_=fea...</td>\n",
       "      <td>Amol Palekar</td>\n",
       "      <td>Utpal Dutt</td>\n",
       "    </tr>\n",
       "    <tr>\n",
       "      <th>4</th>\n",
       "      <td>Anbe Sivam</td>\n",
       "      <td>8.6</td>\n",
       "      <td>2003</td>\n",
       "      <td>Sundar C.</td>\n",
       "      <td>Kamal Haasan</td>\n",
       "      <td>116</td>\n",
       "      <td>Adventure</td>\n",
       "      <td>Two men, one young and arrogant, the other dam...</td>\n",
       "      <td>https://www.imdb.com/title/tt0367495/?ref_=fea...</td>\n",
       "      <td>Kamal Haasan</td>\n",
       "      <td>Madhavan</td>\n",
       "    </tr>\n",
       "  </tbody>\n",
       "</table>\n",
       "</div>"
      ],
      "text/plain": [
       "                            Movie Name  Rating  Year              Director   \n",
       "0  Ramayana: The Legend of Prince Rama     9.2  1993             Ram Mohan  \\\n",
       "1                            12th Fail     8.9  2023    Vidhu Vinod Chopra   \n",
       "2                              Nayakan     8.7  1987           Mani Ratnam   \n",
       "3                             Gol Maal     8.5  1979  Hrishikesh Mukherjee   \n",
       "4                           Anbe Sivam     8.6  2003             Sundar C.   \n",
       "\n",
       "              Writers User Reviews      Genre   \n",
       "0          Rani Burra           53  Animation  \\\n",
       "1  Vidhu Vinod Chopra          973  Biography   \n",
       "2         Balakumaran          237      Crime   \n",
       "3         Sailesh Dey           48     Comedy   \n",
       "4        Kamal Haasan          116  Adventure   \n",
       "\n",
       "                                             Summary   \n",
       "0  An anime adaptation of the Hindu epic the Rama...  \\\n",
       "1  The real-life story of IPS Officer Manoj Kumar...   \n",
       "2  A common man's struggles against a corrupt pol...   \n",
       "3  A man's simple lie to secure his job escalates...   \n",
       "4  Two men, one young and arrogant, the other dam...   \n",
       "\n",
       "                                                 URL          Cast 1   \n",
       "0  https://www.imdb.com/title/tt0259534/?ref_=fea...      Arun Govil  \\\n",
       "1  https://www.imdb.com/title/tt23849204/?ref_=fe...  Vikrant Massey   \n",
       "2  https://www.imdb.com/title/tt0093603/?ref_=fea...    Kamal Haasan   \n",
       "3  https://www.imdb.com/title/tt0079221/?ref_=fea...    Amol Palekar   \n",
       "4  https://www.imdb.com/title/tt0367495/?ref_=fea...    Kamal Haasan   \n",
       "\n",
       "              Cast 2  \n",
       "0      Nikhil Kapoor  \n",
       "1       Medha Shankr  \n",
       "2  Saranya Ponvannan  \n",
       "3         Utpal Dutt  \n",
       "4           Madhavan  "
      ]
     },
     "execution_count": 138,
     "metadata": {},
     "output_type": "execute_result"
    }
   ],
   "source": [
    "df.head()"
   ]
  },
  {
   "cell_type": "code",
   "execution_count": 139,
   "metadata": {},
   "outputs": [],
   "source": [
    "#for i in df.index:\n",
    "    #writers_list = df['Writers'][i]\n",
    "    #df['Writers'][i] = writers_list[0]"
   ]
  },
  {
   "cell_type": "code",
   "execution_count": 140,
   "metadata": {},
   "outputs": [
    {
     "name": "stdout",
     "output_type": "stream",
     "text": [
      "<class 'pandas.core.frame.DataFrame'>\n",
      "RangeIndex: 250 entries, 0 to 249\n",
      "Data columns (total 11 columns):\n",
      " #   Column        Non-Null Count  Dtype  \n",
      "---  ------        --------------  -----  \n",
      " 0   Movie Name    250 non-null    object \n",
      " 1   Rating        250 non-null    float64\n",
      " 2   Year          250 non-null    int64  \n",
      " 3   Director      250 non-null    object \n",
      " 4   Writers       250 non-null    object \n",
      " 5   User Reviews  250 non-null    object \n",
      " 6   Genre         250 non-null    object \n",
      " 7   Summary       250 non-null    object \n",
      " 8   URL           250 non-null    object \n",
      " 9   Cast 1        250 non-null    object \n",
      " 10  Cast 2        250 non-null    object \n",
      "dtypes: float64(1), int64(1), object(9)\n",
      "memory usage: 21.6+ KB\n"
     ]
    }
   ],
   "source": [
    "df.info()"
   ]
  },
  {
   "cell_type": "code",
   "execution_count": 141,
   "metadata": {},
   "outputs": [],
   "source": [
    "#df['Writers'][1] = df['Writers'][1].split(',')\n",
    "#sample_writer_one = df['Writers'][0][0]\n",
    "#n=len(sample_writer_one)\n",
    "#sample_writer = sample_writer_one[2:n-1]\n",
    "#sample_writer"
   ]
  },
  {
   "cell_type": "code",
   "execution_count": null,
   "metadata": {},
   "outputs": [],
   "source": []
  }
 ],
 "metadata": {
  "kernelspec": {
   "display_name": "Python 3",
   "language": "python",
   "name": "python3"
  },
  "language_info": {
   "codemirror_mode": {
    "name": "ipython",
    "version": 3
   },
   "file_extension": ".py",
   "mimetype": "text/x-python",
   "name": "python",
   "nbconvert_exporter": "python",
   "pygments_lexer": "ipython3",
   "version": "3.10.11"
  }
 },
 "nbformat": 4,
 "nbformat_minor": 2
}
