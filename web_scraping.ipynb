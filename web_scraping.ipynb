{
 "cells": [
  {
   "cell_type": "code",
   "execution_count": 1,
   "metadata": {},
   "outputs": [],
   "source": [
    "import re\n",
    "from bs4 import BeautifulSoup\n",
    "from urllib.request import urlopen\n",
    "import pandas as pd\n",
    "import numpy as np\n",
    "import requests"
   ]
  },
  {
   "cell_type": "code",
   "execution_count": 2,
   "metadata": {},
   "outputs": [],
   "source": [
    "movies_name=[]\n",
    "movies_url=[]"
   ]
  },
  {
   "cell_type": "code",
   "execution_count": 3,
   "metadata": {},
   "outputs": [
    {
     "name": "stdout",
     "output_type": "stream",
     "text": [
      "Top Rated Indian Movies - IMDb\n"
     ]
    }
   ],
   "source": [
    "\n",
    "\n",
    "url = 'https://www.imdb.com/india/top-rated-indian-movies'\n",
    "\n",
    "\n",
    "headers = {\n",
    "    'User-Agent': 'Mozilla/5.0 (Windows NT 10.0; Win64; x64) AppleWebKit/537.36 (KHTML, like Gecko) Chrome/58.0.3029.110 Safari/537.3',\n",
    "    'Accept-Language': 'en-US,en;q=0.9',\n",
    "    'Accept-Encoding': 'gzip, deflate, br',\n",
    "    'Connection': 'keep-alive',\n",
    "    'Upgrade-Insecure-Requests': '1',\n",
    "    'Referer': 'https://www.google.com/',\n",
    "}\n",
    "\n",
    "response = requests.get(url, headers=headers)\n",
    "response.raise_for_status()\n",
    "\n",
    "soup = BeautifulSoup(response.text, 'html.parser')\n",
    "print(soup.title.text)\n"
   ]
  },
  {
   "cell_type": "code",
   "execution_count": 4,
   "metadata": {},
   "outputs": [],
   "source": [
    "movies = soup.find_all('li',{'class' : \"ipc-metadata-list__item ipc-metadata-list__item--inline ipc-metadata-list-item--link\"})"
   ]
  },
  {
   "cell_type": "code",
   "execution_count": 5,
   "metadata": {},
   "outputs": [
    {
     "data": {
      "text/plain": [
       "250"
      ]
     },
     "execution_count": 5,
     "metadata": {},
     "output_type": "execute_result"
    }
   ],
   "source": [
    "len(movies)"
   ]
  },
  {
   "cell_type": "code",
   "execution_count": 6,
   "metadata": {},
   "outputs": [],
   "source": [
    "for mov in movies:\n",
    "    parent_span = mov.find('span', class_='sc-551fcf62-4 iYlNDF')\n",
    "    if parent_span:\n",
    "        nested_span = parent_span.find('span', class_='sc-551fcf62-5 igzEFP')\n",
    "        if nested_span:\n",
    "           nested_span.extract()  # Remove the nested span\n",
    "           title = parent_span.text.strip()\n",
    "           movies_name.append(title)\n",
    "    for a_tag in soup.find_all('a', href=True):\n",
    "        href = a_tag['href']\n",
    "        if '/title/' in href:\n",
    "            url = \"https://www.imdb.com\" + href\n",
    "            movies_url.append(url)"
   ]
  },
  {
   "cell_type": "code",
   "execution_count": 7,
   "metadata": {},
   "outputs": [
    {
     "data": {
      "text/plain": [
       "'Ramayana: The Legend of Prince Rama'"
      ]
     },
     "execution_count": 7,
     "metadata": {},
     "output_type": "execute_result"
    }
   ],
   "source": [
    "movies_name[0]"
   ]
  },
  {
   "cell_type": "code",
   "execution_count": 8,
   "metadata": {},
   "outputs": [
    {
     "data": {
      "text/plain": [
       "'https://www.imdb.com/title/tt23849204/?ref_=fea_eds_center-3_IndiaTop250_1'"
      ]
     },
     "execution_count": 8,
     "metadata": {},
     "output_type": "execute_result"
    }
   ],
   "source": [
    "movies_url[2]"
   ]
  },
  {
   "cell_type": "code",
   "execution_count": 9,
   "metadata": {},
   "outputs": [
    {
     "data": {
      "text/plain": [
       "250"
      ]
     },
     "execution_count": 9,
     "metadata": {},
     "output_type": "execute_result"
    }
   ],
   "source": [
    "len(movies_name)"
   ]
  },
  {
   "cell_type": "code",
   "execution_count": 10,
   "metadata": {},
   "outputs": [
    {
     "data": {
      "text/plain": [
       "62750"
      ]
     },
     "execution_count": 10,
     "metadata": {},
     "output_type": "execute_result"
    }
   ],
   "source": [
    "len(movies_url)"
   ]
  },
  {
   "cell_type": "code",
   "execution_count": 11,
   "metadata": {},
   "outputs": [],
   "source": [
    "movies_url = movies_url[0:250]"
   ]
  },
  {
   "cell_type": "code",
   "execution_count": 12,
   "metadata": {},
   "outputs": [
    {
     "data": {
      "text/plain": [
       "'Poove Unakkaga'"
      ]
     },
     "execution_count": 12,
     "metadata": {},
     "output_type": "execute_result"
    }
   ],
   "source": [
    "movies_name[249]"
   ]
  },
  {
   "cell_type": "code",
   "execution_count": 13,
   "metadata": {},
   "outputs": [],
   "source": [
    "movies_url.append(\"https://www.imdb.com/title/tt2325915/?ref_=fea_eds_center-3_IndiaTop250_249\")"
   ]
  },
  {
   "cell_type": "code",
   "execution_count": 14,
   "metadata": {},
   "outputs": [
    {
     "data": {
      "text/plain": [
       "251"
      ]
     },
     "execution_count": 14,
     "metadata": {},
     "output_type": "execute_result"
    }
   ],
   "source": [
    "len(movies_url)"
   ]
  },
  {
   "cell_type": "code",
   "execution_count": 15,
   "metadata": {},
   "outputs": [],
   "source": [
    "movies_url=movies_url[1:]\n"
   ]
  },
  {
   "cell_type": "code",
   "execution_count": 16,
   "metadata": {},
   "outputs": [],
   "source": [
    "sample_url = movies_url[1]\n",
    "sample_title = movies_name[1]"
   ]
  },
  {
   "cell_type": "code",
   "execution_count": 17,
   "metadata": {},
   "outputs": [
    {
     "name": "stdout",
     "output_type": "stream",
     "text": [
      "https://www.imdb.com/title/tt23849204/?ref_=fea_eds_center-3_IndiaTop250_1\n",
      "12th Fail\n"
     ]
    }
   ],
   "source": [
    "print(sample_url)\n",
    "print(sample_title)"
   ]
  },
  {
   "cell_type": "code",
   "execution_count": 18,
   "metadata": {},
   "outputs": [
    {
     "name": "stdout",
     "output_type": "stream",
     "text": [
      "12th Fail (2023) - IMDb\n"
     ]
    }
   ],
   "source": [
    "headers = {\n",
    "    'User-Agent': 'Mozilla/5.0 (Windows NT 10.0; Win64; x64) AppleWebKit/537.36 (KHTML, like Gecko) Chrome/58.0.3029.110 Safari/537.3',\n",
    "    'Accept-Language': 'en-US,en;q=0.9',\n",
    "    'Accept-Encoding': 'gzip, deflate, br',\n",
    "    'Connection': 'keep-alive',\n",
    "    'Upgrade-Insecure-Requests': '1',\n",
    "    'Referer': 'https://www.google.com/',\n",
    "}\n",
    "\n",
    "response = requests.get(sample_url, headers=headers)\n",
    "response.raise_for_status()\n",
    "\n",
    "sample_soup = BeautifulSoup(response.text, 'html.parser')\n",
    "print(sample_soup.title.text)"
   ]
  },
  {
   "cell_type": "code",
   "execution_count": 19,
   "metadata": {},
   "outputs": [
    {
     "data": {
      "text/plain": [
       "'8.9'"
      ]
     },
     "execution_count": 19,
     "metadata": {},
     "output_type": "execute_result"
    }
   ],
   "source": [
    "sample_rating = sample_soup.find('span',{'class':'sc-eb51e184-1 cxhhrI'}).text\n",
    "sample_rating"
   ]
  },
  {
   "cell_type": "code",
   "execution_count": 20,
   "metadata": {},
   "outputs": [
    {
     "name": "stdout",
     "output_type": "stream",
     "text": [
      "2023\n",
      "2h 27m\n"
     ]
    }
   ],
   "source": [
    "flag = 0\n",
    "year_duration = sample_soup.find('ul',{'class' : 'ipc-inline-list ipc-inline-list--show-dividers sc-d8941411-2 cdJsTz baseAlt'})\n",
    "year_duration = year_duration.find_all('li',{'class':'ipc-inline-list__item'})\n",
    "for item in year_duration:\n",
    "    if flag == 0:\n",
    "        sample_year=item.text\n",
    "        flag = flag+1\n",
    "    else:\n",
    "        sample_duration = item.text\n",
    "\n",
    "print(sample_year)\n",
    "print(sample_duration)"
   ]
  },
  {
   "cell_type": "code",
   "execution_count": 21,
   "metadata": {},
   "outputs": [
    {
     "data": {
      "text/plain": [
       "'The real-life story of IPS Officer Manoj Kumar Sharma and IRS Officer Shraddha Joshi.'"
      ]
     },
     "execution_count": 21,
     "metadata": {},
     "output_type": "execute_result"
    }
   ],
   "source": [
    "sample_intro = sample_soup.find('p' , {'class' : 'sc-2d37a7c7-3 dmZChI'})\n",
    "sample_intro = sample_intro.find('span' , {'class' : 'sc-2d37a7c7-0 caYjFF'}).text\n",
    "sample_intro"
   ]
  },
  {
   "cell_type": "code",
   "execution_count": 22,
   "metadata": {},
   "outputs": [
    {
     "data": {
      "text/plain": [
       "['Biography', 'Drama']"
      ]
     },
     "execution_count": 22,
     "metadata": {},
     "output_type": "execute_result"
    }
   ],
   "source": [
    "sample_genre=[]\n",
    "sample_genre_tag = sample_soup.find('div',{'class':'ipc-chip-list__scroller'})\n",
    "sample_genre_tag = sample_genre_tag.find_all('a',{'class':'ipc-chip ipc-chip--on-baseAlt'})\n",
    "for item in sample_genre_tag:\n",
    "    g = item.find('span',{'class':'ipc-chip__text'}).text\n",
    "    sample_genre.append(g)\n",
    "sample_genre"
   ]
  },
  {
   "cell_type": "code",
   "execution_count": 23,
   "metadata": {},
   "outputs": [
    {
     "name": "stdout",
     "output_type": "stream",
     "text": [
      "['Vidhu Vinod Chopra', 'Jaskunwar Kohli', 'Anurag Pathak']\n",
      "Vidhu Vinod Chopra\n",
      "['Vikrant Massey', 'Medha Shankr', 'Anant Joshi']\n"
     ]
    }
   ],
   "source": [
    "sample_cast=[]\n",
    "sample_writers=[]\n",
    "flag=0\n",
    "sample_director = \"\"\n",
    "sample = sample_soup.find('div',{'class':'sc-1f50b7c-2 gHiRzc'})\n",
    "sample = sample.find_all('li',{'class':'ipc-metadata-list__item'})\n",
    "for item in sample:\n",
    "    if flag == 0:\n",
    "        sample_director = item.find('a',{'class':'ipc-metadata-list-item__list-content-item ipc-metadata-list-item__list-content-item--link'}).text\n",
    "        flag = flag + 1\n",
    "    elif flag == 1:\n",
    "        sample_writers_tag = item.find_all('li',{'class':'ipc-inline-list__item'})\n",
    "        for i in sample_writers_tag:\n",
    "            wri=i.find('a',{'class':'ipc-metadata-list-item__list-content-item ipc-metadata-list-item__list-content-item--link'}).text\n",
    "            sample_writers.append(wri)\n",
    "        flag = flag + 1\n",
    "    else:\n",
    "        sample_cast_tag = item.find_all('li',{'class':'ipc-inline-list__item'})\n",
    "        for i in sample_cast_tag:\n",
    "            cast=i.find('a',{'class':'ipc-metadata-list-item__list-content-item ipc-metadata-list-item__list-content-item--link'}).text\n",
    "            sample_cast.append(cast)\n",
    "\n",
    "print(sample_writers)\n",
    "print(sample_director)\n",
    "print(sample_cast)\n",
    "        "
   ]
  },
  {
   "cell_type": "code",
   "execution_count": 24,
   "metadata": {},
   "outputs": [
    {
     "name": "stdout",
     "output_type": "stream",
     "text": [
      "973\n",
      "26\n"
     ]
    }
   ],
   "source": [
    "sample_number_user_reviews = \"\"\n",
    "sample_number_critic_reviews = \"\"\n",
    "flag = 0\n",
    "sample_reviews = sample_soup.find_all('span',{'class':'score'})\n",
    "for item in sample_reviews:\n",
    "    if flag == 0:\n",
    "        sample_number_user_reviews = item.text\n",
    "        flag = flag + 1\n",
    "    else:\n",
    "        sample_number_critic_reviews = item.text\n",
    "        \n",
    "print(sample_number_user_reviews)\n",
    "print(sample_number_critic_reviews)\n",
    "        \n"
   ]
  },
  {
   "cell_type": "code",
   "execution_count": 25,
   "metadata": {},
   "outputs": [],
   "source": [
    "movie_name = []\n",
    "ratings = []\n",
    "year = []\n",
    "duration =[]\n",
    "director = []\n",
    "writers = []\n",
    "cast =[]\n",
    "user_reviews = []\n",
    "critic_reviews = []\n",
    "genre = []\n",
    "summary = []\n",
    "link = []\n",
    "\n"
   ]
  },
  {
   "cell_type": "code",
   "execution_count": 26,
   "metadata": {},
   "outputs": [],
   "source": [
    "def get_info(url,i):\n",
    "    headers = {\n",
    "    'User-Agent': 'Mozilla/5.0 (Windows NT 10.0; Win64; x64) AppleWebKit/537.36 (KHTML, like Gecko) Chrome/58.0.3029.110 Safari/537.3',\n",
    "    'Accept-Language': 'en-US,en;q=0.9',\n",
    "    'Accept-Encoding': 'gzip, deflate, br',\n",
    "    'Connection': 'keep-alive',\n",
    "    'Upgrade-Insecure-Requests': '1',\n",
    "    'Referer': 'https://www.google.com/',\n",
    "}\n",
    "\n",
    "    response = requests.get(url, headers=headers , timeout=15)\n",
    "    response.raise_for_status()\n",
    "\n",
    "    sample_soup = BeautifulSoup(response.text, 'html.parser')\n",
    "    \n",
    "    #TITLE\n",
    "    movie_name.append(movies_name[i])\n",
    "    \n",
    "    #RATINGS\n",
    "    ratings.append(sample_soup.find('span',{'class':'sc-eb51e184-1 cxhhrI'}).text)\n",
    "    \n",
    "    #DURATION AND YEAR\n",
    "    flag = 0\n",
    "    year_duration = sample_soup.find('ul',{'class' : 'ipc-inline-list ipc-inline-list--show-dividers sc-d8941411-2 cdJsTz baseAlt'})\n",
    "    year_duration = year_duration.find_all('li',{'class':'ipc-inline-list__item'})\n",
    "    for item in year_duration:\n",
    "        if flag == 0:\n",
    "            sample_year=item.text\n",
    "            year.append(sample_year)\n",
    "            flag = flag+1\n",
    "        else:\n",
    "            sample_duration = item.text\n",
    "            duration.append(sample_duration)\n",
    "            \n",
    "    #DIRECTOR AND WRITER AND CAST\n",
    "    sample_cast=[]\n",
    "    sample_writers=[]\n",
    "    flag=0\n",
    "    sample_director = \"\"\n",
    "    sample = sample_soup.find('div',{'class':'sc-1f50b7c-2 gHiRzc'})\n",
    "    sample = sample.find_all('li',{'class':'ipc-metadata-list__item'})\n",
    "    for item in sample:\n",
    "        if flag == 0:\n",
    "            sample_director = item.find('a',{'class':'ipc-metadata-list-item__list-content-item ipc-metadata-list-item__list-content-item--link'}).text\n",
    "            flag = flag + 1\n",
    "            director.append(sample_director)\n",
    "        elif flag == 1:\n",
    "            sample_writers_tag = item.find_all('li',{'class':'ipc-inline-list__item'})\n",
    "            for i in sample_writers_tag:\n",
    "                wri=i.find('a',{'class':'ipc-metadata-list-item__list-content-item ipc-metadata-list-item__list-content-item--link'}).text\n",
    "                sample_writers.append(wri)\n",
    "            flag = flag + 1\n",
    "            writers.append(sample_writers)\n",
    "        else:\n",
    "            sample_cast_tag = item.find_all('li',{'class':'ipc-inline-list__item'})\n",
    "            for i in sample_cast_tag:\n",
    "                cas=i.find('a',{'class':'ipc-metadata-list-item__list-content-item ipc-metadata-list-item__list-content-item--link'}).text\n",
    "                sample_cast.append(cas) \n",
    "            cast.append(sample_cast)\n",
    "    \n",
    "    #USER AND CRITIC REVIEWS\n",
    "    sample_number_user_reviews = \"\"\n",
    "    sample_number_critic_reviews = \"\"\n",
    "    flag = 0\n",
    "    sample_reviews = sample_soup.find_all('span',{'class':'score'})\n",
    "    for item in sample_reviews:\n",
    "        if flag == 0:\n",
    "            sample_number_user_reviews = item.text\n",
    "            flag = flag + 1\n",
    "            user_reviews.append(sample_number_user_reviews)\n",
    "        else:\n",
    "            sample_number_critic_reviews = item.text\n",
    "            critic_reviews.append(sample_number_critic_reviews)\n",
    "    \n",
    "    #GENRE\n",
    "    sample_genre=[]\n",
    "    sample_genre_tag = sample_soup.find('div',{'class':'ipc-chip-list__scroller'})\n",
    "    sample_genre_tag = sample_genre_tag.find_all('a',{'class':'ipc-chip ipc-chip--on-baseAlt'})\n",
    "    for item in sample_genre_tag:\n",
    "        g = item.find('span',{'class':'ipc-chip__text'}).text\n",
    "        sample_genre.append(g)\n",
    "    genre.append(sample_genre)\n",
    "    \n",
    "    #SUMMARY\n",
    "    sample_intro = sample_soup.find('p' , {'class' : 'sc-2d37a7c7-3 dmZChI'})\n",
    "    sample_intro = sample_intro.find('span' , {'class' : 'sc-2d37a7c7-0 caYjFF'}).text\n",
    "    summary.append(sample_intro)\n",
    "    \n",
    "    #URL\n",
    "    #link.append(movies_url[i])\n",
    "    \n",
    "        \n",
    "    "
   ]
  },
  {
   "cell_type": "code",
   "execution_count": 27,
   "metadata": {},
   "outputs": [],
   "source": [
    "for i in range(0,100):\n",
    "    get_info(movies_url[i],i)"
   ]
  },
  {
   "cell_type": "code",
   "execution_count": 28,
   "metadata": {},
   "outputs": [],
   "source": [
    "for i in range(100,250):\n",
    "    get_info(movies_url[i],i)"
   ]
  },
  {
   "cell_type": "code",
   "execution_count": 29,
   "metadata": {},
   "outputs": [
    {
     "name": "stdout",
     "output_type": "stream",
     "text": [
      "250\n",
      "250\n",
      "250\n",
      "441\n",
      "250\n",
      "250\n",
      "250\n",
      "250\n",
      "258\n",
      "250\n",
      "250\n",
      "250\n"
     ]
    }
   ],
   "source": [
    "print(len(movie_name))\n",
    "print(len(ratings))\n",
    "print(len(year))\n",
    "print(len(duration))\n",
    "print(len(director))\n",
    "print(len(writers))\n",
    "print(len(cast))\n",
    "print(len(user_reviews))\n",
    "print(len(critic_reviews))\n",
    "print(len(genre))\n",
    "print(len(summary))\n",
    "print(len(movies_url))"
   ]
  },
  {
   "cell_type": "code",
   "execution_count": 30,
   "metadata": {},
   "outputs": [],
   "source": [
    "df = pd.DataFrame({'Movie Name' : movie_name , 'Rating' : ratings , 'Year' : year ,'Director' : director ,'Writers' : writers , 'Cast' : cast ,'User Reviews' : user_reviews , 'Genre' : genre , 'Summary' : summary , 'URL' : movies_url})"
   ]
  },
  {
   "cell_type": "code",
   "execution_count": 31,
   "metadata": {},
   "outputs": [
    {
     "data": {
      "text/html": [
       "<div>\n",
       "<style scoped>\n",
       "    .dataframe tbody tr th:only-of-type {\n",
       "        vertical-align: middle;\n",
       "    }\n",
       "\n",
       "    .dataframe tbody tr th {\n",
       "        vertical-align: top;\n",
       "    }\n",
       "\n",
       "    .dataframe thead th {\n",
       "        text-align: right;\n",
       "    }\n",
       "</style>\n",
       "<table border=\"1\" class=\"dataframe\">\n",
       "  <thead>\n",
       "    <tr style=\"text-align: right;\">\n",
       "      <th></th>\n",
       "      <th>Movie Name</th>\n",
       "      <th>Rating</th>\n",
       "      <th>Year</th>\n",
       "      <th>Director</th>\n",
       "      <th>Writers</th>\n",
       "      <th>Cast</th>\n",
       "      <th>User Reviews</th>\n",
       "      <th>Genre</th>\n",
       "      <th>Summary</th>\n",
       "      <th>URL</th>\n",
       "    </tr>\n",
       "  </thead>\n",
       "  <tbody>\n",
       "    <tr>\n",
       "      <th>0</th>\n",
       "      <td>Ramayana: The Legend of Prince Rama</td>\n",
       "      <td>9.2</td>\n",
       "      <td>1993</td>\n",
       "      <td>Ram Mohan</td>\n",
       "      <td>[Rani Burra, Ram Mohan, Yûgô Sakô]</td>\n",
       "      <td>[Arun Govil, Nikhil Kapoor, Edie Mirman]</td>\n",
       "      <td>53</td>\n",
       "      <td>[Animation, Action, Adventure]</td>\n",
       "      <td>An anime adaptation of the Hindu epic the Rama...</td>\n",
       "      <td>https://www.imdb.com/title/tt0259534/?ref_=fea...</td>\n",
       "    </tr>\n",
       "    <tr>\n",
       "      <th>1</th>\n",
       "      <td>12th Fail</td>\n",
       "      <td>8.9</td>\n",
       "      <td>2023</td>\n",
       "      <td>Vidhu Vinod Chopra</td>\n",
       "      <td>[Vidhu Vinod Chopra, Jaskunwar Kohli, Anurag P...</td>\n",
       "      <td>[Vikrant Massey, Medha Shankr, Anant Joshi]</td>\n",
       "      <td>973</td>\n",
       "      <td>[Biography, Drama]</td>\n",
       "      <td>The real-life story of IPS Officer Manoj Kumar...</td>\n",
       "      <td>https://www.imdb.com/title/tt23849204/?ref_=fe...</td>\n",
       "    </tr>\n",
       "    <tr>\n",
       "      <th>2</th>\n",
       "      <td>Nayakan</td>\n",
       "      <td>8.7</td>\n",
       "      <td>1987</td>\n",
       "      <td>Mani Ratnam</td>\n",
       "      <td>[Balakumaran, Rajasri, Mani Ratnam]</td>\n",
       "      <td>[Kamal Haasan, Saranya Ponvannan, Delhi Ganesh]</td>\n",
       "      <td>237</td>\n",
       "      <td>[Crime, Drama]</td>\n",
       "      <td>A common man's struggles against a corrupt pol...</td>\n",
       "      <td>https://www.imdb.com/title/tt0093603/?ref_=fea...</td>\n",
       "    </tr>\n",
       "    <tr>\n",
       "      <th>3</th>\n",
       "      <td>Gol Maal</td>\n",
       "      <td>8.5</td>\n",
       "      <td>1979</td>\n",
       "      <td>Hrishikesh Mukherjee</td>\n",
       "      <td>[Sailesh Dey, Sachin Bhowmick, Rahi Masoom Reza]</td>\n",
       "      <td>[Amol Palekar, Utpal Dutt, Bindiya Goswami]</td>\n",
       "      <td>48</td>\n",
       "      <td>[Comedy, Romance]</td>\n",
       "      <td>A man's simple lie to secure his job escalates...</td>\n",
       "      <td>https://www.imdb.com/title/tt0079221/?ref_=fea...</td>\n",
       "    </tr>\n",
       "    <tr>\n",
       "      <th>4</th>\n",
       "      <td>Anbe Sivam</td>\n",
       "      <td>8.6</td>\n",
       "      <td>2003</td>\n",
       "      <td>Sundar C.</td>\n",
       "      <td>[Kamal Haasan, Madan, Mohan Nair]</td>\n",
       "      <td>[Kamal Haasan, Madhavan, Kiran Rathod]</td>\n",
       "      <td>116</td>\n",
       "      <td>[Adventure, Comedy, Drama]</td>\n",
       "      <td>Two men, one young and arrogant, the other dam...</td>\n",
       "      <td>https://www.imdb.com/title/tt0367495/?ref_=fea...</td>\n",
       "    </tr>\n",
       "  </tbody>\n",
       "</table>\n",
       "</div>"
      ],
      "text/plain": [
       "                            Movie Name Rating  Year              Director   \n",
       "0  Ramayana: The Legend of Prince Rama    9.2  1993             Ram Mohan  \\\n",
       "1                            12th Fail    8.9  2023    Vidhu Vinod Chopra   \n",
       "2                              Nayakan    8.7  1987           Mani Ratnam   \n",
       "3                             Gol Maal    8.5  1979  Hrishikesh Mukherjee   \n",
       "4                           Anbe Sivam    8.6  2003             Sundar C.   \n",
       "\n",
       "                                             Writers   \n",
       "0                 [Rani Burra, Ram Mohan, Yûgô Sakô]  \\\n",
       "1  [Vidhu Vinod Chopra, Jaskunwar Kohli, Anurag P...   \n",
       "2                [Balakumaran, Rajasri, Mani Ratnam]   \n",
       "3   [Sailesh Dey, Sachin Bhowmick, Rahi Masoom Reza]   \n",
       "4                  [Kamal Haasan, Madan, Mohan Nair]   \n",
       "\n",
       "                                              Cast User Reviews   \n",
       "0         [Arun Govil, Nikhil Kapoor, Edie Mirman]           53  \\\n",
       "1      [Vikrant Massey, Medha Shankr, Anant Joshi]          973   \n",
       "2  [Kamal Haasan, Saranya Ponvannan, Delhi Ganesh]          237   \n",
       "3      [Amol Palekar, Utpal Dutt, Bindiya Goswami]           48   \n",
       "4           [Kamal Haasan, Madhavan, Kiran Rathod]          116   \n",
       "\n",
       "                            Genre   \n",
       "0  [Animation, Action, Adventure]  \\\n",
       "1              [Biography, Drama]   \n",
       "2                  [Crime, Drama]   \n",
       "3               [Comedy, Romance]   \n",
       "4      [Adventure, Comedy, Drama]   \n",
       "\n",
       "                                             Summary   \n",
       "0  An anime adaptation of the Hindu epic the Rama...  \\\n",
       "1  The real-life story of IPS Officer Manoj Kumar...   \n",
       "2  A common man's struggles against a corrupt pol...   \n",
       "3  A man's simple lie to secure his job escalates...   \n",
       "4  Two men, one young and arrogant, the other dam...   \n",
       "\n",
       "                                                 URL  \n",
       "0  https://www.imdb.com/title/tt0259534/?ref_=fea...  \n",
       "1  https://www.imdb.com/title/tt23849204/?ref_=fe...  \n",
       "2  https://www.imdb.com/title/tt0093603/?ref_=fea...  \n",
       "3  https://www.imdb.com/title/tt0079221/?ref_=fea...  \n",
       "4  https://www.imdb.com/title/tt0367495/?ref_=fea...  "
      ]
     },
     "execution_count": 31,
     "metadata": {},
     "output_type": "execute_result"
    }
   ],
   "source": [
    "df.head()"
   ]
  },
  {
   "cell_type": "code",
   "execution_count": 32,
   "metadata": {},
   "outputs": [
    {
     "data": {
      "text/plain": [
       "(250, 10)"
      ]
     },
     "execution_count": 32,
     "metadata": {},
     "output_type": "execute_result"
    }
   ],
   "source": [
    "df.shape"
   ]
  },
  {
   "cell_type": "code",
   "execution_count": 33,
   "metadata": {},
   "outputs": [],
   "source": [
    "for item in df.index:\n",
    "    genre_list = df['Genre'][item]\n",
    "    df['Genre'][item]=genre_list[0]\n",
    "    writers_list = df['Writers'][item]\n",
    "    df['Writers'][item]=writers_list[0]"
   ]
  },
  {
   "cell_type": "code",
   "execution_count": 34,
   "metadata": {},
   "outputs": [
    {
     "data": {
      "text/plain": [
       "array(['Animation', 'Biography', 'Crime', 'Comedy', 'Adventure', 'Drama',\n",
       "       'Action', 'Mystery', 'Horror'], dtype=object)"
      ]
     },
     "execution_count": 34,
     "metadata": {},
     "output_type": "execute_result"
    }
   ],
   "source": [
    "df['Genre'].unique()"
   ]
  },
  {
   "cell_type": "code",
   "execution_count": 35,
   "metadata": {},
   "outputs": [],
   "source": [
    "df['Genre'][249] ='Comedy'"
   ]
  },
  {
   "cell_type": "code",
   "execution_count": 36,
   "metadata": {},
   "outputs": [
    {
     "data": {
      "text/plain": [
       "array(['Animation', 'Biography', 'Crime', 'Comedy', 'Adventure', 'Drama',\n",
       "       'Action', 'Mystery', 'Horror'], dtype=object)"
      ]
     },
     "execution_count": 36,
     "metadata": {},
     "output_type": "execute_result"
    }
   ],
   "source": [
    "df['Genre'].unique()"
   ]
  },
  {
   "cell_type": "code",
   "execution_count": 37,
   "metadata": {},
   "outputs": [
    {
     "data": {
      "text/html": [
       "<div>\n",
       "<style scoped>\n",
       "    .dataframe tbody tr th:only-of-type {\n",
       "        vertical-align: middle;\n",
       "    }\n",
       "\n",
       "    .dataframe tbody tr th {\n",
       "        vertical-align: top;\n",
       "    }\n",
       "\n",
       "    .dataframe thead th {\n",
       "        text-align: right;\n",
       "    }\n",
       "</style>\n",
       "<table border=\"1\" class=\"dataframe\">\n",
       "  <thead>\n",
       "    <tr style=\"text-align: right;\">\n",
       "      <th></th>\n",
       "      <th>Movie Name</th>\n",
       "      <th>Rating</th>\n",
       "      <th>Year</th>\n",
       "      <th>Director</th>\n",
       "      <th>Writers</th>\n",
       "      <th>Cast</th>\n",
       "      <th>User Reviews</th>\n",
       "      <th>Genre</th>\n",
       "      <th>Summary</th>\n",
       "      <th>URL</th>\n",
       "    </tr>\n",
       "  </thead>\n",
       "  <tbody>\n",
       "    <tr>\n",
       "      <th>245</th>\n",
       "      <td>Article 370</td>\n",
       "      <td>7.9</td>\n",
       "      <td>2024</td>\n",
       "      <td>Aditya Suhas Jambhale</td>\n",
       "      <td>Aditya Dhar</td>\n",
       "      <td>[Yami Gautam, Mohan Agashe, Sukhita Aiyar]</td>\n",
       "      <td>192</td>\n",
       "      <td>Action</td>\n",
       "      <td>Ahead of a major constitutional decision, spec...</td>\n",
       "      <td>https://www.imdb.com/title/tt30970235/?ref_=fe...</td>\n",
       "    </tr>\n",
       "    <tr>\n",
       "      <th>246</th>\n",
       "      <td>Ayirathil Oruvan</td>\n",
       "      <td>8.0</td>\n",
       "      <td>2010</td>\n",
       "      <td>K. Selvaraghavan</td>\n",
       "      <td>Rishabh Purohit</td>\n",
       "      <td>[Karthi, Reema Sen, Andrea Jeremiah]</td>\n",
       "      <td>69</td>\n",
       "      <td>Action</td>\n",
       "      <td>Anitha, a government official, embarks on a jo...</td>\n",
       "      <td>https://www.imdb.com/title/tt1512888/?ref_=fea...</td>\n",
       "    </tr>\n",
       "    <tr>\n",
       "      <th>247</th>\n",
       "      <td>Ab Tak Chhappan</td>\n",
       "      <td>7.8</td>\n",
       "      <td>2004</td>\n",
       "      <td>Shimit Amin</td>\n",
       "      <td>Sandeep Shrivastava</td>\n",
       "      <td>[Nana Patekar, Revathi, Yashpal Sharma]</td>\n",
       "      <td>28</td>\n",
       "      <td>Crime</td>\n",
       "      <td>Sadhu, an encounter specialist, is armed with ...</td>\n",
       "      <td>https://www.imdb.com/title/tt0402014/?ref_=fea...</td>\n",
       "    </tr>\n",
       "    <tr>\n",
       "      <th>248</th>\n",
       "      <td>Dada</td>\n",
       "      <td>8.1</td>\n",
       "      <td>2023</td>\n",
       "      <td>Ganesh K. Babu</td>\n",
       "      <td>Ganesh K. Babu</td>\n",
       "      <td>[Kavin, Aparna Das, Bhagyaraj]</td>\n",
       "      <td>38</td>\n",
       "      <td>Drama</td>\n",
       "      <td>A couple in love, accidentally become teenage ...</td>\n",
       "      <td>https://www.imdb.com/title/tt25405130/?ref_=fe...</td>\n",
       "    </tr>\n",
       "    <tr>\n",
       "      <th>249</th>\n",
       "      <td>Poove Unakkaga</td>\n",
       "      <td>8.6</td>\n",
       "      <td>1996</td>\n",
       "      <td>Vikraman</td>\n",
       "      <td>Vikraman</td>\n",
       "      <td>[Joseph Vijay, Sangeetha, Anju Aravind]</td>\n",
       "      <td>49</td>\n",
       "      <td>Comedy</td>\n",
       "      <td>When a man realizes that the Hindu woman he lo...</td>\n",
       "      <td>https://www.imdb.com/title/tt2325915/?ref_=fea...</td>\n",
       "    </tr>\n",
       "  </tbody>\n",
       "</table>\n",
       "</div>"
      ],
      "text/plain": [
       "           Movie Name Rating  Year               Director   \n",
       "245       Article 370    7.9  2024  Aditya Suhas Jambhale  \\\n",
       "246  Ayirathil Oruvan    8.0  2010       K. Selvaraghavan   \n",
       "247   Ab Tak Chhappan    7.8  2004            Shimit Amin   \n",
       "248              Dada    8.1  2023         Ganesh K. Babu   \n",
       "249    Poove Unakkaga    8.6  1996               Vikraman   \n",
       "\n",
       "                 Writers                                        Cast   \n",
       "245          Aditya Dhar  [Yami Gautam, Mohan Agashe, Sukhita Aiyar]  \\\n",
       "246      Rishabh Purohit        [Karthi, Reema Sen, Andrea Jeremiah]   \n",
       "247  Sandeep Shrivastava     [Nana Patekar, Revathi, Yashpal Sharma]   \n",
       "248       Ganesh K. Babu              [Kavin, Aparna Das, Bhagyaraj]   \n",
       "249             Vikraman     [Joseph Vijay, Sangeetha, Anju Aravind]   \n",
       "\n",
       "    User Reviews   Genre                                            Summary   \n",
       "245          192  Action  Ahead of a major constitutional decision, spec...  \\\n",
       "246           69  Action  Anitha, a government official, embarks on a jo...   \n",
       "247           28   Crime  Sadhu, an encounter specialist, is armed with ...   \n",
       "248           38   Drama  A couple in love, accidentally become teenage ...   \n",
       "249           49  Comedy  When a man realizes that the Hindu woman he lo...   \n",
       "\n",
       "                                                   URL  \n",
       "245  https://www.imdb.com/title/tt30970235/?ref_=fe...  \n",
       "246  https://www.imdb.com/title/tt1512888/?ref_=fea...  \n",
       "247  https://www.imdb.com/title/tt0402014/?ref_=fea...  \n",
       "248  https://www.imdb.com/title/tt25405130/?ref_=fe...  \n",
       "249  https://www.imdb.com/title/tt2325915/?ref_=fea...  "
      ]
     },
     "execution_count": 37,
     "metadata": {},
     "output_type": "execute_result"
    }
   ],
   "source": [
    "df.tail()"
   ]
  },
  {
   "cell_type": "code",
   "execution_count": null,
   "metadata": {},
   "outputs": [],
   "source": []
  },
  {
   "cell_type": "code",
   "execution_count": 38,
   "metadata": {},
   "outputs": [],
   "source": []
  },
  {
   "cell_type": "code",
   "execution_count": 40,
   "metadata": {},
   "outputs": [],
   "source": [
    "cast_1 = []\n",
    "cast_2 = []\n",
    "for item in df.index:\n",
    "    cast_list = df['Cast'][item]\n",
    "    cast_1.append(cast_list[0])\n",
    "    cast_2.append(cast_list[1])"
   ]
  },
  {
   "cell_type": "code",
   "execution_count": 41,
   "metadata": {},
   "outputs": [],
   "source": [
    "df['Cast 1'] = cast_1"
   ]
  },
  {
   "cell_type": "code",
   "execution_count": 42,
   "metadata": {},
   "outputs": [],
   "source": [
    "df['Cast 2'] = cast_2"
   ]
  },
  {
   "cell_type": "code",
   "execution_count": 43,
   "metadata": {},
   "outputs": [
    {
     "name": "stdout",
     "output_type": "stream",
     "text": [
      "<class 'pandas.core.frame.DataFrame'>\n",
      "RangeIndex: 250 entries, 0 to 249\n",
      "Data columns (total 12 columns):\n",
      " #   Column        Non-Null Count  Dtype \n",
      "---  ------        --------------  ----- \n",
      " 0   Movie Name    250 non-null    object\n",
      " 1   Rating        250 non-null    object\n",
      " 2   Year          250 non-null    object\n",
      " 3   Director      250 non-null    object\n",
      " 4   Writers       250 non-null    object\n",
      " 5   Cast          250 non-null    object\n",
      " 6   User Reviews  250 non-null    object\n",
      " 7   Genre         250 non-null    object\n",
      " 8   Summary       250 non-null    object\n",
      " 9   URL           250 non-null    object\n",
      " 10  Cast 1        250 non-null    object\n",
      " 11  Cast 2        250 non-null    object\n",
      "dtypes: object(12)\n",
      "memory usage: 23.6+ KB\n"
     ]
    }
   ],
   "source": [
    "df.info()"
   ]
  },
  {
   "cell_type": "code",
   "execution_count": 45,
   "metadata": {},
   "outputs": [],
   "source": [
    "df = df.drop('Cast' , axis = 1)"
   ]
  },
  {
   "cell_type": "code",
   "execution_count": 46,
   "metadata": {},
   "outputs": [
    {
     "name": "stdout",
     "output_type": "stream",
     "text": [
      "<class 'pandas.core.frame.DataFrame'>\n",
      "RangeIndex: 250 entries, 0 to 249\n",
      "Data columns (total 11 columns):\n",
      " #   Column        Non-Null Count  Dtype \n",
      "---  ------        --------------  ----- \n",
      " 0   Movie Name    250 non-null    object\n",
      " 1   Rating        250 non-null    object\n",
      " 2   Year          250 non-null    object\n",
      " 3   Director      250 non-null    object\n",
      " 4   Writers       250 non-null    object\n",
      " 5   User Reviews  250 non-null    object\n",
      " 6   Genre         250 non-null    object\n",
      " 7   Summary       250 non-null    object\n",
      " 8   URL           250 non-null    object\n",
      " 9   Cast 1        250 non-null    object\n",
      " 10  Cast 2        250 non-null    object\n",
      "dtypes: object(11)\n",
      "memory usage: 21.6+ KB\n"
     ]
    }
   ],
   "source": [
    "df.info()"
   ]
  },
  {
   "cell_type": "code",
   "execution_count": 47,
   "metadata": {},
   "outputs": [],
   "source": [
    "df.to_csv('movie_list.csv', index=False)"
   ]
  },
  {
   "cell_type": "code",
   "execution_count": null,
   "metadata": {},
   "outputs": [],
   "source": []
  }
 ],
 "metadata": {
  "kernelspec": {
   "display_name": "Python 3",
   "language": "python",
   "name": "python3"
  },
  "language_info": {
   "codemirror_mode": {
    "name": "ipython",
    "version": 3
   },
   "file_extension": ".py",
   "mimetype": "text/x-python",
   "name": "python",
   "nbconvert_exporter": "python",
   "pygments_lexer": "ipython3",
   "version": "3.10.11"
  }
 },
 "nbformat": 4,
 "nbformat_minor": 2
}
