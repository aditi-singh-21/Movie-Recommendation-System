{
 "cells": [
  {
   "cell_type": "code",
   "execution_count": 13,
   "metadata": {},
   "outputs": [],
   "source": [
    "import pandas as pd\n",
    "import numpy as np\n",
    "import pickle \n",
    "from sklearn.feature_extraction.text import TfidfVectorizer\n",
    "from sklearn.metrics.pairwise import linear_kernel\n",
    "import os"
   ]
  },
  {
   "cell_type": "code",
   "execution_count": 2,
   "metadata": {},
   "outputs": [],
   "source": [
    "df = pd.read_csv(\"movie_list.csv\")"
   ]
  },
  {
   "cell_type": "code",
   "execution_count": 3,
   "metadata": {},
   "outputs": [
    {
     "name": "stdout",
     "output_type": "stream",
     "text": [
      "<class 'pandas.core.frame.DataFrame'>\n",
      "RangeIndex: 250 entries, 0 to 249\n",
      "Data columns (total 11 columns):\n",
      " #   Column        Non-Null Count  Dtype  \n",
      "---  ------        --------------  -----  \n",
      " 0   Movie Name    250 non-null    object \n",
      " 1   Rating        250 non-null    float64\n",
      " 2   Year          250 non-null    int64  \n",
      " 3   Director      250 non-null    object \n",
      " 4   Writers       250 non-null    object \n",
      " 5   User Reviews  250 non-null    float64\n",
      " 6   Genre         250 non-null    object \n",
      " 7   Summary       250 non-null    object \n",
      " 8   URL           250 non-null    object \n",
      " 9   Cast 1        250 non-null    object \n",
      " 10  Cast 2        250 non-null    object \n",
      "dtypes: float64(2), int64(1), object(8)\n",
      "memory usage: 21.6+ KB\n"
     ]
    }
   ],
   "source": [
    "df.info()"
   ]
  },
  {
   "cell_type": "code",
   "execution_count": 4,
   "metadata": {},
   "outputs": [],
   "source": [
    "columns = ['Movie Name' , 'Rating' , 'Year' , 'Genre' ,'Summary']"
   ]
  },
  {
   "cell_type": "code",
   "execution_count": 6,
   "metadata": {},
   "outputs": [],
   "source": [
    "def get_imp_features(df):\n",
    "    important_features =[]\n",
    "    for i in df.index:\n",
    "        important_features.append(df['Movie Name'][i] +' '+ str(df['Rating'][i]) + ' ' + str(df['Year'][i]) + ' ' + df['Genre'][i]+ ' ' + df['Summary'][i])\n",
    "    return important_features\n",
    "\n",
    "df['Important Features'] = get_imp_features(df)"
   ]
  },
  {
   "cell_type": "code",
   "execution_count": 7,
   "metadata": {},
   "outputs": [
    {
     "name": "stdout",
     "output_type": "stream",
     "text": [
      "<class 'pandas.core.frame.DataFrame'>\n",
      "RangeIndex: 250 entries, 0 to 249\n",
      "Data columns (total 12 columns):\n",
      " #   Column              Non-Null Count  Dtype  \n",
      "---  ------              --------------  -----  \n",
      " 0   Movie Name          250 non-null    object \n",
      " 1   Rating              250 non-null    float64\n",
      " 2   Year                250 non-null    int64  \n",
      " 3   Director            250 non-null    object \n",
      " 4   Writers             250 non-null    object \n",
      " 5   User Reviews        250 non-null    float64\n",
      " 6   Genre               250 non-null    object \n",
      " 7   Summary             250 non-null    object \n",
      " 8   URL                 250 non-null    object \n",
      " 9   Cast 1              250 non-null    object \n",
      " 10  Cast 2              250 non-null    object \n",
      " 11  Important Features  250 non-null    object \n",
      "dtypes: float64(2), int64(1), object(9)\n",
      "memory usage: 23.6+ KB\n"
     ]
    }
   ],
   "source": [
    "df.info()"
   ]
  },
  {
   "cell_type": "code",
   "execution_count": 9,
   "metadata": {},
   "outputs": [
    {
     "data": {
      "text/plain": [
       "(250, 2219)"
      ]
     },
     "execution_count": 9,
     "metadata": {},
     "output_type": "execute_result"
    }
   ],
   "source": [
    "vectorize = TfidfVectorizer(stop_words=\"english\")\n",
    "vectorize_matrix = vectorize.fit_transform(df['Important Features'])\n",
    "vectorize_matrix.shape"
   ]
  },
  {
   "cell_type": "code",
   "execution_count": 12,
   "metadata": {},
   "outputs": [],
   "source": [
    "encoded_vector = vectorize_matrix\n",
    "movies_name = df['Movie Name']"
   ]
  },
  {
   "cell_type": "code",
   "execution_count": 14,
   "metadata": {},
   "outputs": [],
   "source": [
    "with open(r'C:\\Users\\aditi\\OneDrive\\Desktop\\PROJECTS\\Movie-Recommendation-System\\encoded_movies_info.txt', 'wb') as file:\n",
    "    pickle.dump(encoded_vector, file)\n",
    "with open(r'C:\\Users\\aditi\\OneDrive\\Desktop\\PROJECTS\\Movie-Recommendation-System\\movies_name.txt', 'wb') as file:\n",
    "    pickle.dump(movies_name, file) "
   ]
  },
  {
   "cell_type": "code",
   "execution_count": null,
   "metadata": {},
   "outputs": [],
   "source": []
  }
 ],
 "metadata": {
  "kernelspec": {
   "display_name": "Python 3",
   "language": "python",
   "name": "python3"
  },
  "language_info": {
   "codemirror_mode": {
    "name": "ipython",
    "version": 3
   },
   "file_extension": ".py",
   "mimetype": "text/x-python",
   "name": "python",
   "nbconvert_exporter": "python",
   "pygments_lexer": "ipython3",
   "version": "3.10.11"
  }
 },
 "nbformat": 4,
 "nbformat_minor": 2
}
